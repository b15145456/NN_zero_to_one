{
  "nbformat": 4,
  "nbformat_minor": 0,
  "metadata": {
    "colab": {
      "name": "類神經網路HW3.ipynb",
      "provenance": [],
      "collapsed_sections": [],
      "authorship_tag": "ABX9TyMrVAX9ooAIeO5W4sXbg2K9",
      "include_colab_link": true
    },
    "kernelspec": {
      "name": "python3",
      "display_name": "Python 3"
    }
  },
  "cells": [
    {
      "cell_type": "markdown",
      "metadata": {
        "id": "view-in-github",
        "colab_type": "text"
      },
      "source": [
        "<a href=\"https://colab.research.google.com/github/b15145456/Neural-Network-By-scratch/blob/master/%E9%A1%9E%E7%A5%9E%E7%B6%93%E7%B6%B2%E8%B7%AFHW3.ipynb\" target=\"_parent\"><img src=\"https://colab.research.google.com/assets/colab-badge.svg\" alt=\"Open In Colab\"/></a>"
      ]
    },
    {
      "cell_type": "markdown",
      "metadata": {
        "id": "QEKf3k-Ev7Tj"
      },
      "source": [
        ""
      ]
    },
    {
      "cell_type": "code",
      "metadata": {
        "id": "4ffbwklo7vTG"
      },
      "source": [
        "import numpy as np\n",
        "import matplotlib.pyplot as plt\n",
        "import random\n",
        "\n",
        "\n",
        "#根據feature決定input layer 的 neural數目\n",
        "class SOMNetwork:\n",
        "    def __init__(self, net_size, times, learning_rate, input_data):\n",
        "      #hyperparamater 1.epoches 2.資料\n",
        "      self.data_label = np.unique(input_data[:, -1])\n",
        "      self.input_data = input_data\n",
        "      self.learning_rate = learning_rate\n",
        "      self.epoches = times\n",
        "      self.times = 1\n",
        "      # 神經元數目=類別數目, 神經元維度=資料維度, \n",
        "      self.layer_name = \"competition_Layer\"\n",
        "      self.neural_num =  net_size* net_size # for last column\n",
        "      self.competition_weight = np.random.uniform(0, 1, [net_size, net_size, input_data.shape[1]] ).astype(np.float128)   #隨機產生 net_size x net_size的神經元, 神經元維度根據input設定\n",
        "      \n",
        "    def update_paramater(self, i, j, input):  #更新鄰近區域的神經元 目前設定3x3,\n",
        "      self.competition_weight[i,j,] = self.competition_weight[i,j,] + self.learning_rate*(input - self.competition_weight[i,j,])\n",
        "      if (i-1) >= 0:\n",
        "        self.competition_weight[i-1,j,] = self.competition_weight[i-1,j,] + self.learning_rate*(input - self.competition_weight[i-1,j,])\n",
        "      if (i-1) >= 0 and (j-1) >= 0:\n",
        "        self.competition_weight[i-1,j-1,] = self.competition_weight[i-1,j-1,] + self.learning_rate*(input - self.competition_weight[i-1,j-1,])\n",
        "      if (i-1) >= 0 and (j+1) < self.competition_weight.shape[1]:\n",
        "        self.competition_weight[i-1,j+1,] = self.competition_weight[i-1,j+1,] + self.learning_rate*(input - self.competition_weight[i-1,j+1,])\n",
        "      \n",
        "      if (j-1) >= 0:\n",
        "        self.competition_weight[i,j-1,] = self.competition_weight[i,j-1,] + self.learning_rate*(input - self.competition_weight[i,j-1,])\n",
        "      if (j+1) < self.competition_weight.shape[1]:\n",
        "        self.competition_weight[i,j+1,] = self.competition_weight[i,j+1,] + self.learning_rate*(input - self.competition_weight[i,j+1,])\n",
        "      \n",
        "      if (i+1) < self.competition_weight.shape[0] and (j-1) >= 0:\n",
        "        self.competition_weight[i+1,j-1,] = self.competition_weight[i+1,j-1,] + self.learning_rate*(input - self.competition_weight[i+1,j-1,])\n",
        "      if (i+1) < self.competition_weight.shape[0]:\n",
        "        self.competition_weight[i+1,j,] = self.competition_weight[i+1,j,] + self.learning_rate*(input - self.competition_weight[i+1,j,])\n",
        "      if (i+1) < self.competition_weight.shape[0] and (j+1) < self.competition_weight.shape[1]:\n",
        "        self.competition_weight[i+1,j+1,] = self.competition_weight[i+1,j+1,] + self.learning_rate*(input - self.competition_weight[i+1,j+1,])      \n",
        "      return None\n",
        "\n",
        "    def choose_winner(self, data):\n",
        "      min = 9999\n",
        "      winner_index_i = 0\n",
        "      winner_index_j = 0\n",
        "      for i in range(self.competition_weight.shape[0]):\n",
        "        for j in range(self.competition_weight.shape[1]):\n",
        "          temp_dist = self.eucliDist(self.competition_weight[i,j,:], data)\n",
        "          if temp_dist < min:\n",
        "            min = temp_dist\n",
        "            winner_index_i = i\n",
        "            winner_index_j = j\n",
        "      return winner_index_i, winner_index_j\n",
        "\n",
        "    def random_input(self):\n",
        "      data = self.input_data[random.randint(0,len(self.input_data)-1)]\n",
        "      return data\n",
        "\n",
        "    def eucliDist(self, A,B):\n",
        "      return np.linalg.norm(A - B)\n",
        "\n",
        "    def train(self):\n",
        "        self.plot_topo()\n",
        "        # for i in range(self.competition_weight.shape[0]):\n",
        "        #   for j in range(self.competition_weight.shape[1]):\n",
        "        #     plt.scatter(self.competition_weight[i][j][0],self.competition_weight[i][j][1])\n",
        "        while self.epoches>0 :\n",
        "          data = self.random_input()\n",
        "          index_i, index_j = self.choose_winner(data)\n",
        "          self.update_paramater(index_i, index_j, data)\n",
        "          self.learning_rate = 0.9*(1-self.times/1000)\n",
        "          self.epoches-=1\n",
        "          self.times += 1\n",
        "          if self.times%1000 == 0:\n",
        "            print('訓練次數:',self.times)\n",
        "            self.plot_topo()\n",
        "            # for i in range(self.competition_weight.shape[0]):\n",
        "            #   for j in range(self.competition_weight.shape[1]):\n",
        "            #     plt.scatter(self.competition_weight[i][j][0],self.competition_weight[i][j][1], color='b')\n",
        "          # self.ax = plt.subplot(projection='3d')  # 创建一个三维的绘图工程\n",
        "          # for i in range(self.competition_weight.shape[0]):\n",
        "          #   for j in range(self.competition_weight.shape[1]):\n",
        "          #     try:\n",
        "          #       self.ax.scatter(self.competition_weight[i][j][0],self.competition_weight[i][j][1],self.competition_weight[i][j][2], c='r')\n",
        "          #     except:\n",
        "          #       self.ax.scatter(self.competition_weight[i][j][0],self.competition_weight[i][j][1], c='r')\n",
        "\n",
        "          # for i in range(self.competition_weight.shape[0]):\n",
        "          #   for j in range(self.competition_weight.shape[1]):\n",
        "          #     \n",
        "          plt.show() \n",
        "    def plot_topo(self):\n",
        "      x_values = []\n",
        "      y_values = []\n",
        "      for i in range(self.competition_weight.shape[0]):\n",
        "        for j in range(self.competition_weight.shape[1]):\n",
        "          plt.scatter(self.competition_weight[i][j][0],self.competition_weight[i][j][1], color='b')\n",
        "          x_values.append(self.competition_weight[i][j][0])\n",
        "          y_values.append(self.competition_weight[i][j][1])\n",
        "          plt.plot(x_values, y_values, color='r')\n",
        "\n",
        "      x_values = []\n",
        "      y_values = []\n",
        "      for j in range(self.competition_weight.shape[0]):\n",
        "        for i in range(self.competition_weight.shape[1]):\n",
        "          x_values.append(self.competition_weight[i][j][0])\n",
        "          y_values.append(self.competition_weight[i][j][1])\n",
        "          plt.plot(x_values, y_values, color='r')\n",
        "\n",
        "          \n",
        "       \n",
        "      "
      ],
      "execution_count": null,
      "outputs": []
    },
    {
      "cell_type": "markdown",
      "metadata": {
        "id": "PRZkR000vjbs"
      },
      "source": [
        ""
      ]
    },
    {
      "cell_type": "code",
      "metadata": {
        "id": "HFfHnXkpLrVx",
        "colab": {
          "base_uri": "https://localhost:8080/",
          "height": 530
        },
        "outputId": "d47cf568-79e7-4ffb-cfef-9f216c96a723"
      },
      "source": [
        "import sklearn.model_selection\n",
        "def load_train_test_data(train_ratio=.5):\n",
        "    data = np.loadtxt(\"xor.txt\",dtype=np.float,delimiter=' ')\n",
        "    X = data[:,0:data.shape[1]-1]\n",
        "    y = data[:,data.shape[1]-1]\n",
        "    return sklearn.model_selection.train_test_split(X, y, test_size = 1 - train_ratio, random_state=0)\n",
        "def scale_features(X_train, X_test, low=0, upp=1):\n",
        "    minmax_scaler = sklearn.preprocessing.MinMaxScaler(feature_range=(low, upp)).fit(np.vstack((X_train, X_test)))\n",
        "    X_train_scaled = minmax_scaler.transform(X_train)\n",
        "    X_test_scaled = minmax_scaler.transform(X_test)\n",
        "    return X_train_scaled, X_test_scaled\n",
        "\n",
        "X_train, X_test, y_train, y_test = load_train_test_data(train_ratio=0.9)\n",
        "X_train_scaled, X_test_scaled = scale_features(X_train, X_test, 0, 1)\n",
        "\n",
        "# X_train_scaled = np.insert(X_train_scaled, 0, values=-1.0, axis=1)\n",
        "# X_test_scaled = np.insert(X_train_scaled, 0, values=-1.0, axis=1)\n",
        "\n",
        "\n",
        "\n",
        "distin_res = np.unique(y_train)\n",
        "\n",
        "#feature_num, class_num, hiddenLayer_num, hiddenNeural_num, data_x, data_y, train_times, learning_rate = 0.1\n",
        "# nn.hidden_layer_list\n",
        "\n",
        "\n",
        "model = SOMNetwork(7, 1000, 1, X_train)\n",
        "\n",
        "\n",
        "model.train()"
      ],
      "execution_count": null,
      "outputs": [
        {
          "output_type": "display_data",
          "data": {
            "image/png": "[encoded data removed]",
            "text/plain": [
              "<Figure size 432x288 with 1 Axes>"
            ]
          },
          "metadata": {
            "tags": [],
            "needs_background": "light"
          }
        },
        {
          "output_type": "stream",
          "text": [
            "訓練次數: 1000\n"
          ],
          "name": "stdout"
        },
        {
          "output_type": "display_data",
          "data": {
            "image/png": "[encoded data removed]",
            "text/plain": [
              "<Figure size 432x288 with 1 Axes>"
            ]
          },
          "metadata": {
            "tags": [],
            "needs_background": "light"
          }
        }
      ]
    },
    {
      "cell_type": "code",
      "metadata": {
        "id": "4CIuVGinNcDy",
        "colab": {
          "base_uri": "https://localhost:8080/"
        },
        "outputId": "22db704d-2197-4407-a170-33d71c9b68d1"
      },
      "source": [
        "model.competition_weight"
      ],
      "execution_count": null,
      "outputs": [
        {
          "output_type": "execute_result",
          "data": {
            "text/plain": [
              "array([[[-0.48687886,  0.6478507 ],\n",
              "        [-0.45349915,  0.5437295 ],\n",
              "        [-0.37751127,  0.28715417],\n",
              "        [-0.21004274,  0.04532025],\n",
              "        [-0.08180873, -0.02934431],\n",
              "        [ 0.40242506, -0.13596254],\n",
              "        [ 0.96866986, -0.17341585]],\n",
              "\n",
              "       [[-0.5937017 ,  0.65943035],\n",
              "        [-0.56799781,  0.55266622],\n",
              "        [-0.52446467,  0.27268907],\n",
              "        [-0.31896047,  0.01667205],\n",
              "        [-0.21429193, -0.07431586],\n",
              "        [ 0.20193554, -0.19379857],\n",
              "        [ 0.63597499, -0.2812916 ]],\n",
              "\n",
              "       [[-0.90564494,  0.69502546],\n",
              "        [-0.89199833,  0.57760305],\n",
              "        [-0.76060213,  0.24024307],\n",
              "        [-0.56945856, -0.03369061],\n",
              "        [-0.46672443, -0.16202697],\n",
              "        [-0.33096889, -0.38425545],\n",
              "        [-0.2601899 , -0.51407661]],\n",
              "\n",
              "       [[-1.07252427,  0.68611487],\n",
              "        [-1.03681146,  0.58396878],\n",
              "        [-0.95507988,  0.16728573],\n",
              "        [-0.86599185, -0.08115766],\n",
              "        [-0.80929152, -0.20551997],\n",
              "        [-0.59896808, -0.4845906 ],\n",
              "        [-0.49108146, -0.61129931]],\n",
              "\n",
              "       [[-1.3387726 ,  0.59650294],\n",
              "        [-1.32609128,  0.47004327],\n",
              "        [-1.2440285 ,  0.08737044],\n",
              "        [-1.18458608, -0.13706616],\n",
              "        [-1.0956573 , -0.28630555],\n",
              "        [-0.90676298, -0.60170922],\n",
              "        [-0.83467484, -0.705842  ]],\n",
              "\n",
              "       [[-1.5780179 ,  0.4416247 ],\n",
              "        [-1.57608411,  0.29365736],\n",
              "        [-1.50747469,  0.01648154],\n",
              "        [-1.42339483, -0.15563877],\n",
              "        [-1.33114667, -0.33460146],\n",
              "        [-1.16033584, -0.61671004],\n",
              "        [-1.12415091, -0.73552278]],\n",
              "\n",
              "       [[-1.62954604,  0.39147581],\n",
              "        [-1.62475233,  0.2520017 ],\n",
              "        [-1.61895338,  0.03007559],\n",
              "        [-1.57420441, -0.14588648],\n",
              "        [-1.47646417, -0.3812001 ],\n",
              "        [-1.30027881, -0.65817084],\n",
              "        [-1.26730215, -0.734018  ]]], dtype=float128)"
            ]
          },
          "metadata": {
            "tags": []
          },
          "execution_count": 422
        }
      ]
    },
    {
      "cell_type": "code",
      "metadata": {
        "id": "7TSeXB70p7Ng",
        "colab": {
          "base_uri": "https://localhost:8080/"
        },
        "outputId": "99db03b9-f29c-4efc-8a0d-a7e343641af6"
      },
      "source": [
        "reset"
      ],
      "execution_count": null,
      "outputs": [
        {
          "output_type": "stream",
          "text": [
            "Once deleted, variables cannot be recovered. Proceed (y/[n])? y\n"
          ],
          "name": "stdout"
        }
      ]
    },
    {
      "cell_type": "markdown",
      "metadata": {
        "id": "WjnfDnEAGGXc"
      },
      "source": [
        "$$後面計算紙的部分$$"
      ]
    },
    {
      "cell_type": "code",
      "metadata": {
        "id": "s68SClv5LX0n",
        "colab": {
          "base_uri": "https://localhost:8080/"
        },
        "outputId": "45184c4d-b185-4113-8269-6cba6a77e9ac"
      },
      "source": [
        "import numpy as np\n",
        "\n",
        "np.random.seed(42)\n",
        "arr = np.random.randint(1, 10, size=(3, 4))\n",
        "print(arr[0])\n",
        "print(arr[1, 1]) # 3 located at (1, 1)\n",
        "print(arr[2, -3]) # 4 located at (2, -3)"
      ],
      "execution_count": null,
      "outputs": [
        {
          "output_type": "stream",
          "text": [
            "[7 4 8 5]\n",
            "3\n",
            "4\n"
          ],
          "name": "stdout"
        }
      ]
    },
    {
      "cell_type": "code",
      "metadata": {
        "id": "6zcJ8T0yqpUp",
        "colab": {
          "base_uri": "https://localhost:8080/"
        },
        "outputId": "516d4214-baa9-4217-86de-e6ea91ce37cb"
      },
      "source": [
        "a = np.random.rand(2, 2)\n",
        "print(a)\n",
        "a = np.insert(a, 0, -1.)    #在最前面插入-1\n",
        "print(a)"
      ],
      "execution_count": null,
      "outputs": [
        {
          "output_type": "stream",
          "text": [
            "[[0.57058196 0.155753  ]\n",
            " [0.9767602  0.71247579]]\n",
            "[[-1.          0.57058196  0.155753  ]\n",
            " [-1.          0.9767602   0.71247579]]\n"
          ],
          "name": "stdout"
        }
      ]
    },
    {
      "cell_type": "code",
      "metadata": {
        "id": "TdAYmehR4B-i",
        "colab": {
          "base_uri": "https://localhost:8080/"
        },
        "outputId": "bf07202c-e27b-4320-aa5f-3c5fd8ff13ce"
      },
      "source": [
        "a = np.array([-1, 1, 1])\n",
        "b = np.array([[-1, -2],\n",
        "              [-3, -4],\n",
        "              [-5, -6]])\n",
        "len(a)\n",
        "# print(a.shape)\n",
        "# print(b.shape)\n",
        "# c = np.dot(a, b)\n",
        "# print(c)\n",
        "# print(b[0,:])\n",
        "# print(b[:,0])"
      ],
      "execution_count": null,
      "outputs": [
        {
          "output_type": "execute_result",
          "data": {
            "text/plain": [
              "3"
            ]
          },
          "metadata": {
            "tags": []
          },
          "execution_count": 258
        }
      ]
    },
    {
      "cell_type": "code",
      "metadata": {
        "id": "s26WPc6mB9yL"
      },
      "source": [
        "import numpy as np\n",
        "array = np.array([[1,2,3],\n",
        "                 [4,5,6]])\n",
        "c = np.unique(array[:, -1])\n"
      ],
      "execution_count": null,
      "outputs": []
    },
    {
      "cell_type": "code",
      "metadata": {
        "colab": {
          "base_uri": "https://localhost:8080/"
        },
        "id": "XEbo2rqwEQlA",
        "outputId": "7cd22304-6bfe-4bbc-e51c-fd189df97a80"
      },
      "source": [
        "c"
      ],
      "execution_count": null,
      "outputs": [
        {
          "output_type": "execute_result",
          "data": {
            "text/plain": [
              "array([3, 6])"
            ]
          },
          "metadata": {
            "tags": []
          },
          "execution_count": 3
        }
      ]
    },
    {
      "cell_type": "code",
      "metadata": {
        "colab": {
          "base_uri": "https://localhost:8080/"
        },
        "id": "TZ008cmqEXuO",
        "outputId": "4a5dfec1-71fe-47ea-8ff7-e7ae2079037d"
      },
      "source": [
        "len(c)"
      ],
      "execution_count": null,
      "outputs": [
        {
          "output_type": "execute_result",
          "data": {
            "text/plain": [
              "2"
            ]
          },
          "metadata": {
            "tags": []
          },
          "execution_count": 4
        }
      ]
    },
    {
      "cell_type": "code",
      "metadata": {
        "colab": {
          "base_uri": "https://localhost:8080/",
          "height": 265
        },
        "id": "Us_dUSZLEmqN",
        "outputId": "46fceb4e-cc68-4ad3-deb6-e0be3c3d8753"
      },
      "source": [
        "import numpy as np\n",
        "import matplotlib.pyplot as plt\n",
        "mu = 5  #期望為1\n",
        "sigma = 3  #標準差為3\n",
        "num = 10000  #個數為10000\n",
        "rand_data = np.random.normal(mu, sigma, num)\n",
        "count, bins, ignored = plt.hist(rand_data, 30)\n",
        "plt.plot(bins, 1/(sigma * np.sqrt(2 * np.pi)) *np.exp( - (bins - mu)**2 / (2 * sigma**2)), linewidth=2, color='r')\n",
        "plt.show()"
      ],
      "execution_count": null,
      "outputs": [
        {
          "output_type": "display_data",
          "data": {
            "image/png": "[encoded data removed]",
            "text/plain": [
              "<Figure size 432x288 with 1 Axes>"
            ]
          },
          "metadata": {
            "tags": [],
            "needs_background": "light"
          }
        }
      ]
    },
    {
      "cell_type": "code",
      "metadata": {
        "colab": {
          "base_uri": "https://localhost:8080/",
          "height": 286
        },
        "id": "EClsozwpXhki",
        "outputId": "d5747c0b-30e0-42c8-c6a6-7f5d0f94e1f1"
      },
      "source": [
        "import numpy as np\n",
        "import matplotlib.pyplot as plt\n",
        "rand_data = np.random.uniform(0,1,[10,10,3])\n",
        "for i in range(rand_data.shape[0]):\n",
        "  plt.plot(rand_data[i,0], rand_data[i,1], 'ro')\n",
        "# print(rand_data)\n",
        "# print(rand_data[0,0,:])\n",
        "rand_data[1,9,:]"
      ],
      "execution_count": null,
      "outputs": [
        {
          "output_type": "execute_result",
          "data": {
            "text/plain": [
              "array([0.24423208, 0.57717911, 0.23070471])"
            ]
          },
          "metadata": {
            "tags": []
          },
          "execution_count": 26
        },
        {
          "output_type": "display_data",
          "data": {
            "image/png": "[encoded data removed]",
            "text/plain": [
              "<Figure size 432x288 with 1 Axes>"
            ]
          },
          "metadata": {
            "tags": [],
            "needs_background": "light"
          }
        }
      ]
    },
    {
      "cell_type": "code",
      "metadata": {
        "colab": {
          "base_uri": "https://localhost:8080/"
        },
        "id": "zutkUGJyYBqq",
        "outputId": "546f3192-2878-4071-de82-a5f11a5c9654"
      },
      "source": [
        "for i in range(rand_data.shape[0]):\n",
        "  print(i)"
      ],
      "execution_count": null,
      "outputs": [
        {
          "output_type": "stream",
          "text": [
            "0\n",
            "1\n",
            "2\n",
            "3\n",
            "4\n",
            "5\n",
            "6\n",
            "7\n",
            "8\n",
            "9\n"
          ],
          "name": "stdout"
        }
      ]
    },
    {
      "cell_type": "code",
      "metadata": {
        "colab": {
          "base_uri": "https://localhost:8080/",
          "height": 467
        },
        "id": "yRIg1T5qaoIX",
        "outputId": "4ae3711c-1e2d-42f2-899a-71030a37ba4f"
      },
      "source": [
        "import numpy as np\n",
        "import matplotlib.pyplot as plt\n",
        "ax = plt.subplot(projection='3d')  # 创建一个三维的绘图工程\n",
        "for i in range(rand_data.shape[0]):\n",
        "  for j in range(rand_data.shape[1]):\n",
        "    ax.scatter(rand_data[i,j,0], rand_data[i,j,1], rand_data[i,j,2], c='r')\n",
        "\n"
      ],
      "execution_count": null,
      "outputs": [
        {
          "output_type": "error",
          "ename": "NameError",
          "evalue": "ignored",
          "traceback": [
            "\u001b[0;31m---------------------------------------------------------------------------\u001b[0m",
            "\u001b[0;31mNameError\u001b[0m                                 Traceback (most recent call last)",
            "\u001b[0;32m<ipython-input-22-814a9e3f6d0c>\u001b[0m in \u001b[0;36m<module>\u001b[0;34m()\u001b[0m\n\u001b[1;32m      2\u001b[0m \u001b[0;32mimport\u001b[0m \u001b[0mmatplotlib\u001b[0m\u001b[0;34m.\u001b[0m\u001b[0mpyplot\u001b[0m \u001b[0;32mas\u001b[0m \u001b[0mplt\u001b[0m\u001b[0;34m\u001b[0m\u001b[0;34m\u001b[0m\u001b[0m\n\u001b[1;32m      3\u001b[0m \u001b[0max\u001b[0m \u001b[0;34m=\u001b[0m \u001b[0mplt\u001b[0m\u001b[0;34m.\u001b[0m\u001b[0msubplot\u001b[0m\u001b[0;34m(\u001b[0m\u001b[0mprojection\u001b[0m\u001b[0;34m=\u001b[0m\u001b[0;34m'3d'\u001b[0m\u001b[0;34m)\u001b[0m  \u001b[0;31m# 创建一个三维的绘图工程\u001b[0m\u001b[0;34m\u001b[0m\u001b[0;34m\u001b[0m\u001b[0m\n\u001b[0;32m----> 4\u001b[0;31m \u001b[0;32mfor\u001b[0m \u001b[0mi\u001b[0m \u001b[0;32min\u001b[0m \u001b[0mrange\u001b[0m\u001b[0;34m(\u001b[0m\u001b[0mrand_data\u001b[0m\u001b[0;34m.\u001b[0m\u001b[0mshape\u001b[0m\u001b[0;34m[\u001b[0m\u001b[0;36m0\u001b[0m\u001b[0;34m]\u001b[0m\u001b[0;34m)\u001b[0m\u001b[0;34m:\u001b[0m\u001b[0;34m\u001b[0m\u001b[0;34m\u001b[0m\u001b[0m\n\u001b[0m\u001b[1;32m      5\u001b[0m   \u001b[0;32mfor\u001b[0m \u001b[0mj\u001b[0m \u001b[0;32min\u001b[0m \u001b[0mrange\u001b[0m\u001b[0;34m(\u001b[0m\u001b[0mrand_data\u001b[0m\u001b[0;34m.\u001b[0m\u001b[0mshape\u001b[0m\u001b[0;34m[\u001b[0m\u001b[0;36m1\u001b[0m\u001b[0;34m]\u001b[0m\u001b[0;34m)\u001b[0m\u001b[0;34m:\u001b[0m\u001b[0;34m\u001b[0m\u001b[0;34m\u001b[0m\u001b[0m\n\u001b[1;32m      6\u001b[0m     \u001b[0max\u001b[0m\u001b[0;34m.\u001b[0m\u001b[0mscatter\u001b[0m\u001b[0;34m(\u001b[0m\u001b[0mrand_data\u001b[0m\u001b[0;34m[\u001b[0m\u001b[0mi\u001b[0m\u001b[0;34m,\u001b[0m\u001b[0mj\u001b[0m\u001b[0;34m,\u001b[0m\u001b[0;36m0\u001b[0m\u001b[0;34m]\u001b[0m\u001b[0;34m,\u001b[0m \u001b[0mrand_data\u001b[0m\u001b[0;34m[\u001b[0m\u001b[0mi\u001b[0m\u001b[0;34m,\u001b[0m\u001b[0mj\u001b[0m\u001b[0;34m,\u001b[0m\u001b[0;36m1\u001b[0m\u001b[0;34m]\u001b[0m\u001b[0;34m,\u001b[0m \u001b[0mrand_data\u001b[0m\u001b[0;34m[\u001b[0m\u001b[0mi\u001b[0m\u001b[0;34m,\u001b[0m\u001b[0mj\u001b[0m\u001b[0;34m,\u001b[0m\u001b[0;36m2\u001b[0m\u001b[0;34m]\u001b[0m\u001b[0;34m,\u001b[0m \u001b[0mc\u001b[0m\u001b[0;34m=\u001b[0m\u001b[0;34m'r'\u001b[0m\u001b[0;34m)\u001b[0m\u001b[0;34m\u001b[0m\u001b[0;34m\u001b[0m\u001b[0m\n",
            "\u001b[0;31mNameError\u001b[0m: name 'rand_data' is not defined"
          ]
        },
        {
          "output_type": "display_data",
          "data": {
            "image/png": "[encoded data removed]",
            "text/plain": [
              "<Figure size 432x288 with 1 Axes>"
            ]
          },
          "metadata": {
            "tags": [],
            "needs_background": "light"
          }
        }
      ]
    },
    {
      "cell_type": "code",
      "metadata": {
        "id": "g1_Y4PRNPV7A"
      },
      "source": [
        "import numpy as np\n",
        "def eucliDist(A,B):\n",
        "    return np.sqrt(sum(np.power((A - B), 2)))"
      ],
      "execution_count": null,
      "outputs": []
    },
    {
      "cell_type": "code",
      "metadata": {
        "colab": {
          "base_uri": "https://localhost:8080/"
        },
        "id": "VkEMLLDrPWxB",
        "outputId": "fe3a0fa5-3c94-48ba-8b20-9f66c8322c81"
      },
      "source": [
        "cal_distance(np.array([1,2,1]), np.array([1,5,1]))"
      ],
      "execution_count": null,
      "outputs": [
        {
          "output_type": "execute_result",
          "data": {
            "text/plain": [
              "3.0"
            ]
          },
          "metadata": {
            "tags": []
          },
          "execution_count": 18
        }
      ]
    },
    {
      "cell_type": "code",
      "metadata": {
        "id": "I-yRK6zdPasA"
      },
      "source": [
        "for i in range(10):\n",
        "  for j in range(10):\n",
        "    print(i)\n",
        "    print(j)"
      ],
      "execution_count": null,
      "outputs": []
    },
    {
      "cell_type": "code",
      "metadata": {
        "id": "FfE68HboRvIY"
      },
      "source": [
        "import numpy as np\n",
        "import matplotlib.pyplot as plt\n",
        "from matplotlib import font_manager\n",
        "# 解決中文亂碼問題\n",
        "myfont = font_manager.FontProperties(fname=r\"C:\\Windows\\Fonts\\msyh.ttc\"\n",
        ", size=14)\n",
        "N = 20\n",
        "plt.close() # 關閉開啟的圖形視窗\n",
        "def anni():\n",
        "    fig = plt.figure()\n",
        "    plt.ion() # 開啟互動式繪圖interactive\n",
        "    for i in range(N):\n",
        "        plt.cla()           # 清除原有影象\n",
        "        plt.xlim(-0.2,20.4) # 設定x軸座標範圍\n",
        "        plt.ylim(-1.2,1.2)  # 設定y軸座標範圍\n",
        "        # 每當i增加的時候，增加自變數x的區間長度，可以理解為不斷疊加繪圖，所以每次迴圈之前都使用plt.cla()命令清除原有影象\n",
        "        x = np.linspace(0,i+1,1000) \n",
        "        y = np.sin(x)\n",
        "        plt.plot(x,y)\n",
        "        plt.pause(0.1)\n",
        "    # plt.ioff() #關閉互動式繪圖\n",
        "    plt.show()\n",
        "\n",
        "anni()"
      ],
      "execution_count": null,
      "outputs": []
    },
    {
      "cell_type": "code",
      "metadata": {
        "colab": {
          "base_uri": "https://localhost:8080/",
          "height": 396
        },
        "id": "AGpE9CjgjHIg",
        "outputId": "8914e515-40c2-42ad-ec73-f3460a62a2ec"
      },
      "source": [
        "import os\n",
        "import glob\n",
        "\n",
        "mypath = os.getcwd()\n",
        "file_count = len(glob.glob1(mypath,\"hypoDD.reloc.*\"))\n",
        "print(\"Number of clusters is:\" ,file_count)\n",
        "\n",
        "# Get .txt files\n",
        "\n",
        "import fnmatch\n",
        "import pandas as pd\n",
        "\n",
        "data = pd.DataFrame()\n",
        "for f_name in os.listdir(os.getcwd()):\n",
        " if fnmatch.fnmatch(f_name, 'hypoDD.reloc.*'):\n",
        "     print(f_name)\n",
        "     df=pd.read_csv(f_name,header=None,sep=\"\\s+|\\t\")\n",
        "     data=data.append(df,ignore_index=True)\n",
        "     #print(data)\n",
        "\n",
        "\n",
        "data.to_csv('IRIS.txt',index=False)\n",
        "latitude=data.iloc[:,1]\n",
        "longitude=data.iloc[:,2]\n",
        "depth=data.iloc[:,3]\n",
        "\n",
        "scatter_data = pd.concat([longitude, latitude,depth], axis=1)\n",
        "scatter_data.columns=['lon','lat','depth']\n",
        "\n",
        "#------------------------------3D scatter--------------------------------\n",
        "#----setting default renderer------------\n",
        "import plotly.io as pio\n",
        "pio.rrenderers\n",
        "pio.renderers.default = \"browser\"\n",
        "#-----------------------------------------\n",
        "import plotly.express as px\n",
        "\n",
        "fig = px.scatter_3d(scatter_data,x='lon', y='lat', z='depth')\n",
        "fig.show()\n",
        "fig.write_image(\"fig1.jpg\")"
      ],
      "execution_count": null,
      "outputs": [
        {
          "output_type": "stream",
          "text": [
            "Number of clusters is: 0\n"
          ],
          "name": "stdout"
        },
        {
          "output_type": "error",
          "ename": "IndexError",
          "evalue": "ignored",
          "traceback": [
            "\u001b[0;31m---------------------------------------------------------------------------\u001b[0m",
            "\u001b[0;31mIndexError\u001b[0m                                Traceback (most recent call last)",
            "\u001b[0;32m<ipython-input-190-96dd972c3cdb>\u001b[0m in \u001b[0;36m<module>\u001b[0;34m()\u001b[0m\n\u001b[1;32m     21\u001b[0m \u001b[0;34m\u001b[0m\u001b[0m\n\u001b[1;32m     22\u001b[0m \u001b[0mdata\u001b[0m\u001b[0;34m.\u001b[0m\u001b[0mto_csv\u001b[0m\u001b[0;34m(\u001b[0m\u001b[0;34m'IRIS.txt'\u001b[0m\u001b[0;34m,\u001b[0m\u001b[0mindex\u001b[0m\u001b[0;34m=\u001b[0m\u001b[0;32mFalse\u001b[0m\u001b[0;34m)\u001b[0m\u001b[0;34m\u001b[0m\u001b[0;34m\u001b[0m\u001b[0m\n\u001b[0;32m---> 23\u001b[0;31m \u001b[0mlatitude\u001b[0m\u001b[0;34m=\u001b[0m\u001b[0mdata\u001b[0m\u001b[0;34m.\u001b[0m\u001b[0miloc\u001b[0m\u001b[0;34m[\u001b[0m\u001b[0;34m:\u001b[0m\u001b[0;34m,\u001b[0m\u001b[0;36m1\u001b[0m\u001b[0;34m]\u001b[0m\u001b[0;34m\u001b[0m\u001b[0;34m\u001b[0m\u001b[0m\n\u001b[0m\u001b[1;32m     24\u001b[0m \u001b[0mlongitude\u001b[0m\u001b[0;34m=\u001b[0m\u001b[0mdata\u001b[0m\u001b[0;34m.\u001b[0m\u001b[0miloc\u001b[0m\u001b[0;34m[\u001b[0m\u001b[0;34m:\u001b[0m\u001b[0;34m,\u001b[0m\u001b[0;36m2\u001b[0m\u001b[0;34m]\u001b[0m\u001b[0;34m\u001b[0m\u001b[0;34m\u001b[0m\u001b[0m\n\u001b[1;32m     25\u001b[0m \u001b[0mdepth\u001b[0m\u001b[0;34m=\u001b[0m\u001b[0mdata\u001b[0m\u001b[0;34m.\u001b[0m\u001b[0miloc\u001b[0m\u001b[0;34m[\u001b[0m\u001b[0;34m:\u001b[0m\u001b[0;34m,\u001b[0m\u001b[0;36m3\u001b[0m\u001b[0;34m]\u001b[0m\u001b[0;34m\u001b[0m\u001b[0;34m\u001b[0m\u001b[0m\n",
            "\u001b[0;32m/usr/local/lib/python3.6/dist-packages/pandas/core/indexing.py\u001b[0m in \u001b[0;36m__getitem__\u001b[0;34m(self, key)\u001b[0m\n\u001b[1;32m    871\u001b[0m                     \u001b[0;31m# AttributeError for IntervalTree get_value\u001b[0m\u001b[0;34m\u001b[0m\u001b[0;34m\u001b[0m\u001b[0;34m\u001b[0m\u001b[0m\n\u001b[1;32m    872\u001b[0m                     \u001b[0;32mpass\u001b[0m\u001b[0;34m\u001b[0m\u001b[0;34m\u001b[0m\u001b[0m\n\u001b[0;32m--> 873\u001b[0;31m             \u001b[0;32mreturn\u001b[0m \u001b[0mself\u001b[0m\u001b[0;34m.\u001b[0m\u001b[0m_getitem_tuple\u001b[0m\u001b[0;34m(\u001b[0m\u001b[0mkey\u001b[0m\u001b[0;34m)\u001b[0m\u001b[0;34m\u001b[0m\u001b[0;34m\u001b[0m\u001b[0m\n\u001b[0m\u001b[1;32m    874\u001b[0m         \u001b[0;32melse\u001b[0m\u001b[0;34m:\u001b[0m\u001b[0;34m\u001b[0m\u001b[0;34m\u001b[0m\u001b[0m\n\u001b[1;32m    875\u001b[0m             \u001b[0;31m# we by definition only have the 0th axis\u001b[0m\u001b[0;34m\u001b[0m\u001b[0;34m\u001b[0m\u001b[0;34m\u001b[0m\u001b[0m\n",
            "\u001b[0;32m/usr/local/lib/python3.6/dist-packages/pandas/core/indexing.py\u001b[0m in \u001b[0;36m_getitem_tuple\u001b[0;34m(self, tup)\u001b[0m\n\u001b[1;32m   1441\u001b[0m     \u001b[0;32mdef\u001b[0m \u001b[0m_getitem_tuple\u001b[0m\u001b[0;34m(\u001b[0m\u001b[0mself\u001b[0m\u001b[0;34m,\u001b[0m \u001b[0mtup\u001b[0m\u001b[0;34m:\u001b[0m \u001b[0mTuple\u001b[0m\u001b[0;34m)\u001b[0m\u001b[0;34m:\u001b[0m\u001b[0;34m\u001b[0m\u001b[0;34m\u001b[0m\u001b[0m\n\u001b[1;32m   1442\u001b[0m \u001b[0;34m\u001b[0m\u001b[0m\n\u001b[0;32m-> 1443\u001b[0;31m         \u001b[0mself\u001b[0m\u001b[0;34m.\u001b[0m\u001b[0m_has_valid_tuple\u001b[0m\u001b[0;34m(\u001b[0m\u001b[0mtup\u001b[0m\u001b[0;34m)\u001b[0m\u001b[0;34m\u001b[0m\u001b[0;34m\u001b[0m\u001b[0m\n\u001b[0m\u001b[1;32m   1444\u001b[0m         \u001b[0;32mtry\u001b[0m\u001b[0;34m:\u001b[0m\u001b[0;34m\u001b[0m\u001b[0;34m\u001b[0m\u001b[0m\n\u001b[1;32m   1445\u001b[0m             \u001b[0;32mreturn\u001b[0m \u001b[0mself\u001b[0m\u001b[0;34m.\u001b[0m\u001b[0m_getitem_lowerdim\u001b[0m\u001b[0;34m(\u001b[0m\u001b[0mtup\u001b[0m\u001b[0;34m)\u001b[0m\u001b[0;34m\u001b[0m\u001b[0;34m\u001b[0m\u001b[0m\n",
            "\u001b[0;32m/usr/local/lib/python3.6/dist-packages/pandas/core/indexing.py\u001b[0m in \u001b[0;36m_has_valid_tuple\u001b[0;34m(self, key)\u001b[0m\n\u001b[1;32m    700\u001b[0m                 \u001b[0;32mraise\u001b[0m \u001b[0mIndexingError\u001b[0m\u001b[0;34m(\u001b[0m\u001b[0;34m\"Too many indexers\"\u001b[0m\u001b[0;34m)\u001b[0m\u001b[0;34m\u001b[0m\u001b[0;34m\u001b[0m\u001b[0m\n\u001b[1;32m    701\u001b[0m             \u001b[0;32mtry\u001b[0m\u001b[0;34m:\u001b[0m\u001b[0;34m\u001b[0m\u001b[0;34m\u001b[0m\u001b[0m\n\u001b[0;32m--> 702\u001b[0;31m                 \u001b[0mself\u001b[0m\u001b[0;34m.\u001b[0m\u001b[0m_validate_key\u001b[0m\u001b[0;34m(\u001b[0m\u001b[0mk\u001b[0m\u001b[0;34m,\u001b[0m \u001b[0mi\u001b[0m\u001b[0;34m)\u001b[0m\u001b[0;34m\u001b[0m\u001b[0;34m\u001b[0m\u001b[0m\n\u001b[0m\u001b[1;32m    703\u001b[0m             \u001b[0;32mexcept\u001b[0m \u001b[0mValueError\u001b[0m \u001b[0;32mas\u001b[0m \u001b[0merr\u001b[0m\u001b[0;34m:\u001b[0m\u001b[0;34m\u001b[0m\u001b[0;34m\u001b[0m\u001b[0m\n\u001b[1;32m    704\u001b[0m                 raise ValueError(\n",
            "\u001b[0;32m/usr/local/lib/python3.6/dist-packages/pandas/core/indexing.py\u001b[0m in \u001b[0;36m_validate_key\u001b[0;34m(self, key, axis)\u001b[0m\n\u001b[1;32m   1350\u001b[0m             \u001b[0;32mreturn\u001b[0m\u001b[0;34m\u001b[0m\u001b[0;34m\u001b[0m\u001b[0m\n\u001b[1;32m   1351\u001b[0m         \u001b[0;32melif\u001b[0m \u001b[0mis_integer\u001b[0m\u001b[0;34m(\u001b[0m\u001b[0mkey\u001b[0m\u001b[0;34m)\u001b[0m\u001b[0;34m:\u001b[0m\u001b[0;34m\u001b[0m\u001b[0;34m\u001b[0m\u001b[0m\n\u001b[0;32m-> 1352\u001b[0;31m             \u001b[0mself\u001b[0m\u001b[0;34m.\u001b[0m\u001b[0m_validate_integer\u001b[0m\u001b[0;34m(\u001b[0m\u001b[0mkey\u001b[0m\u001b[0;34m,\u001b[0m \u001b[0maxis\u001b[0m\u001b[0;34m)\u001b[0m\u001b[0;34m\u001b[0m\u001b[0;34m\u001b[0m\u001b[0m\n\u001b[0m\u001b[1;32m   1353\u001b[0m         \u001b[0;32melif\u001b[0m \u001b[0misinstance\u001b[0m\u001b[0;34m(\u001b[0m\u001b[0mkey\u001b[0m\u001b[0;34m,\u001b[0m \u001b[0mtuple\u001b[0m\u001b[0;34m)\u001b[0m\u001b[0;34m:\u001b[0m\u001b[0;34m\u001b[0m\u001b[0;34m\u001b[0m\u001b[0m\n\u001b[1;32m   1354\u001b[0m             \u001b[0;31m# a tuple should already have been caught by this point\u001b[0m\u001b[0;34m\u001b[0m\u001b[0;34m\u001b[0m\u001b[0;34m\u001b[0m\u001b[0m\n",
            "\u001b[0;32m/usr/local/lib/python3.6/dist-packages/pandas/core/indexing.py\u001b[0m in \u001b[0;36m_validate_integer\u001b[0;34m(self, key, axis)\u001b[0m\n\u001b[1;32m   1435\u001b[0m         \u001b[0mlen_axis\u001b[0m \u001b[0;34m=\u001b[0m \u001b[0mlen\u001b[0m\u001b[0;34m(\u001b[0m\u001b[0mself\u001b[0m\u001b[0;34m.\u001b[0m\u001b[0mobj\u001b[0m\u001b[0;34m.\u001b[0m\u001b[0m_get_axis\u001b[0m\u001b[0;34m(\u001b[0m\u001b[0maxis\u001b[0m\u001b[0;34m)\u001b[0m\u001b[0;34m)\u001b[0m\u001b[0;34m\u001b[0m\u001b[0;34m\u001b[0m\u001b[0m\n\u001b[1;32m   1436\u001b[0m         \u001b[0;32mif\u001b[0m \u001b[0mkey\u001b[0m \u001b[0;34m>=\u001b[0m \u001b[0mlen_axis\u001b[0m \u001b[0;32mor\u001b[0m \u001b[0mkey\u001b[0m \u001b[0;34m<\u001b[0m \u001b[0;34m-\u001b[0m\u001b[0mlen_axis\u001b[0m\u001b[0;34m:\u001b[0m\u001b[0;34m\u001b[0m\u001b[0;34m\u001b[0m\u001b[0m\n\u001b[0;32m-> 1437\u001b[0;31m             \u001b[0;32mraise\u001b[0m \u001b[0mIndexError\u001b[0m\u001b[0;34m(\u001b[0m\u001b[0;34m\"single positional indexer is out-of-bounds\"\u001b[0m\u001b[0;34m)\u001b[0m\u001b[0;34m\u001b[0m\u001b[0;34m\u001b[0m\u001b[0m\n\u001b[0m\u001b[1;32m   1438\u001b[0m \u001b[0;34m\u001b[0m\u001b[0m\n\u001b[1;32m   1439\u001b[0m     \u001b[0;31m# -------------------------------------------------------------------\u001b[0m\u001b[0;34m\u001b[0m\u001b[0;34m\u001b[0m\u001b[0;34m\u001b[0m\u001b[0m\n",
            "\u001b[0;31mIndexError\u001b[0m: single positional indexer is out-of-bounds"
          ]
        }
      ]
    },
    {
      "cell_type": "code",
      "metadata": {
        "id": "Y_PSZZjzkfbi",
        "colab": {
          "base_uri": "https://localhost:8080/"
        },
        "outputId": "9f2b2849-b61c-413f-9f7b-074531fbd954"
      },
      "source": [
        "i = 0\n",
        "j = 0\n",
        "for i in range(0,10):\n",
        "  for j in range(0,10):\n",
        "    i+=1\n",
        "    j+=1\n",
        "\n",
        "print(i)\n",
        "print(j)"
      ],
      "execution_count": null,
      "outputs": [
        {
          "output_type": "stream",
          "text": [
            "19\n",
            "10\n"
          ],
          "name": "stdout"
        }
      ]
    },
    {
      "cell_type": "code",
      "metadata": {
        "colab": {
          "base_uri": "https://localhost:8080/",
          "height": 476
        },
        "id": "7ckWFSHIp5vm",
        "outputId": "1d4dabdc-51fd-4f1c-f4da-d521f6ebe026"
      },
      "source": [
        "import matplotlib.pyplot as plt\n",
        "import numpy as np\n",
        "\n",
        "# image data\n",
        "a = np.array([0.313660827978, 0.365348418405, 0.423733120134,\n",
        "              0.365348418405, 0.439599930621, 0.525083754405,\n",
        "              0.423733120134, 0.525083754405, 0.651536351379]).reshape(3,3)\n",
        "\n",
        "\"\"\"\n",
        "for the value of \"interpolation\", check this:\n",
        "http://matplotlib.org/examples/images_contours_and_fields/interpolation_methods.html\n",
        "for the value of \"origin\"= ['upper', 'lower'], check this:\n",
        "http://matplotlib.org/examples/pylab_examples/image_origin.html\n",
        "\"\"\"\n",
        "plt.imshow(model.competition_weight[0], interpolation='nearest', cmap='bone', origin='upper')\n",
        "plt.colorbar(shrink=.92)\n",
        "\n",
        "plt.xticks(())\n",
        "plt.yticks(())\n",
        "plt.show()\n",
        "\n",
        "print(model.competition_weight[0])"
      ],
      "execution_count": null,
      "outputs": [
        {
          "output_type": "stream",
          "text": [
            "/usr/local/lib/python3.6/dist-packages/IPython/core/pylabtools.py:125: UserWarning: Casting input data from 'float128' to 'float64' for imshow\n",
            "  fig.canvas.print_figure(bytes_io, **kw)\n"
          ],
          "name": "stderr"
        },
        {
          "output_type": "display_data",
          "data": {
            "image/png": "[encoded data removed]",
            "text/plain": [
              "<Figure size 432x288 with 2 Axes>"
            ]
          },
          "metadata": {
            "tags": [],
            "needs_background": "light"
          }
        },
        {
          "output_type": "stream",
          "text": [
            "[[3.57908291 3.19982122 2.10865788 2.03606274]\n",
            " [6.19411939 8.76229841 6.07462871 6.69955212]\n",
            " [3.43573315 3.72402012 2.93064846 2.28573453]\n",
            " [4.89464894 4.34990891 7.8437318  8.39676138]\n",
            " [0.76420966 2.31824714 4.52896332 4.80977702]\n",
            " [2.96324243 3.56378204 4.15779306 5.8634917 ]\n",
            " [2.2967894  4.39117721 4.75056505 2.73999721]\n",
            " [1.84947833 4.181123   4.550546   2.71800704]\n",
            " [6.90416328 7.58899944 7.69407238 6.82102379]\n",
            " [3.62965393 4.2648238  2.64225343 2.36851741]]\n"
          ],
          "name": "stdout"
        }
      ]
    },
    {
      "cell_type": "code",
      "metadata": {
        "colab": {
          "base_uri": "https://localhost:8080/",
          "height": 249
        },
        "id": "roqW1L7zAuI9",
        "outputId": "43d8556a-b186-4ade-faf5-b4c27442d19c"
      },
      "source": [
        "import matplotlib.pyplot as plt\n",
        "import numpy as np\n",
        "from mpl_toolkits.mplot3d import Axes3D\n",
        " \n",
        " \n",
        "fig = plt.figure()\n",
        "axis = fig.gca(projection='3d')\n",
        " \n",
        "#產出X,Y,Z數據\n",
        "x0 = np.arange(-2.0, 2.0, 0.25)\n",
        "x1 = np.arange(-2.0, 2.0, 0.25)\n",
        "X, Y = np.meshgrid(x0, x1)\n",
        "Z = X**2 - Y**2\n",
        " \n",
        "#畫圖\n",
        "surface = axis.plot_surface(X, Y, Z, rstride=1, cstride=1, cmap='coolwarm_r')\n",
        "fig.colorbar(surface, shrink=1.0, aspect=20)\n",
        " \n",
        "# 設置圖表訊息\n",
        "plt.title(\"Z = X**2 - Y**2\", fontsize=16)\n",
        "plt.xlabel(\"X\", fontsize=16)\n",
        "plt.ylabel(\"Y\", fontsize=16)\n",
        " \n",
        "plt.show()"
      ],
      "execution_count": null,
      "outputs": [
        {
          "output_type": "display_data",
          "data": {
            "image/png": "[encoded data removed]",
            "text/plain": [
              "<Figure size 432x288 with 2 Axes>"
            ]
          },
          "metadata": {
            "tags": [],
            "needs_background": "light"
          }
        }
      ]
    },
    {
      "cell_type": "code",
      "metadata": {
        "colab": {
          "base_uri": "https://localhost:8080/",
          "height": 372
        },
        "id": "ttf1R5EUBqCW",
        "outputId": "481f7c21-b537-460d-96cf-7551f9971968"
      },
      "source": [
        "import networkx as nx\n",
        "G = nx.Graph()"
      ],
      "execution_count": null,
      "outputs": [
        {
          "output_type": "error",
          "ename": "ModuleNotFoundError",
          "evalue": "ignored",
          "traceback": [
            "\u001b[0;31m---------------------------------------------------------------------------\u001b[0m",
            "\u001b[0;31mModuleNotFoundError\u001b[0m                       Traceback (most recent call last)",
            "\u001b[0;32m<ipython-input-28-28c850f73fdc>\u001b[0m in \u001b[0;36m<module>\u001b[0;34m()\u001b[0m\n\u001b[0;32m----> 1\u001b[0;31m \u001b[0;32mfrom\u001b[0m \u001b[0mmvpa2\u001b[0m\u001b[0;34m.\u001b[0m\u001b[0msuite\u001b[0m \u001b[0;32mimport\u001b[0m \u001b[0;34m*\u001b[0m\u001b[0;34m\u001b[0m\u001b[0;34m\u001b[0m\u001b[0m\n\u001b[0m\u001b[1;32m      2\u001b[0m colors = np.array(\n\u001b[1;32m      3\u001b[0m          [[0., 0., 0.],\n\u001b[1;32m      4\u001b[0m           \u001b[0;34m[\u001b[0m\u001b[0;36m0.\u001b[0m\u001b[0;34m,\u001b[0m \u001b[0;36m0.\u001b[0m\u001b[0;34m,\u001b[0m \u001b[0;36m1.\u001b[0m\u001b[0;34m]\u001b[0m\u001b[0;34m,\u001b[0m\u001b[0;34m\u001b[0m\u001b[0;34m\u001b[0m\u001b[0m\n\u001b[1;32m      5\u001b[0m           \u001b[0;34m[\u001b[0m\u001b[0;36m0.\u001b[0m\u001b[0;34m,\u001b[0m \u001b[0;36m0.\u001b[0m\u001b[0;34m,\u001b[0m \u001b[0;36m0.5\u001b[0m\u001b[0;34m]\u001b[0m\u001b[0;34m,\u001b[0m\u001b[0;34m\u001b[0m\u001b[0;34m\u001b[0m\u001b[0m\n",
            "\u001b[0;31mModuleNotFoundError\u001b[0m: No module named 'mvpa2'",
            "",
            "\u001b[0;31m---------------------------------------------------------------------------\u001b[0;32m\nNOTE: If your import is failing due to a missing package, you can\nmanually install dependencies using either !pip or !apt.\n\nTo view examples of installing some common dependencies, click the\n\"Open Examples\" button below.\n\u001b[0;31m---------------------------------------------------------------------------\u001b[0m\n"
          ]
        }
      ]
    },
    {
      "cell_type": "code",
      "metadata": {
        "colab": {
          "base_uri": "https://localhost:8080/",
          "height": 281
        },
        "id": "0RwbWFytIkiD",
        "outputId": "db4cb484-8b7a-4153-bc52-4df09a5bd441"
      },
      "source": [
        "import matplotlib.pyplot as plt\n",
        "import numpy as np\n",
        "\n",
        "# Fixing random state for reproducibility\n",
        "\n",
        "x = np.random.random(20)\n",
        "y = np.random.random(20)\n",
        "for i in range(self.competition_weight.shape[0]):\n",
        "  for j in range(self.competition_weight.shape[1]):\n",
        "    plt.scatter(self.competition_weight[i][j][0],self.competition_weight[i][j][1])\n",
        "  plt.show() \n",
        "# Scatter plot on top of lines\n",
        "plt.plot(x, y, 'C3', zorder=1, lw=3)\n",
        "plt.scatter(x, y, s=50, zorder=2)\n",
        "plt.title('Dots on top of lines')\n",
        "plt.show()"
      ],
      "execution_count": null,
      "outputs": [
        {
          "output_type": "display_data",
          "data": {
            "image/png": "[encoded data removed]",
            "text/plain": [
              "<Figure size 432x288 with 1 Axes>"
            ]
          },
          "metadata": {
            "tags": [],
            "needs_background": "light"
          }
        }
      ]
    },
    {
      "cell_type": "code",
      "metadata": {
        "id": "NiEr2ASVQ9k-"
      },
      "source": [
        "# -*- coding: utf-8 -*-\n",
        "# Unsupervised clustering for the UCI-WINE dataset using Kohonen network\n",
        "# 參考網站 : https://visualstudiomagazine.com/articles/2019/01/01/self-organizing-maps-python.aspx\n",
        "import numpy as np\n",
        "import matplotlib.pyplot as plt\n",
        "\n",
        "# 載入資料\n",
        "def loadData():\n",
        "    data_file = \"wine.data\"\n",
        "    data_x = np.loadtxt(data_file, delimiter=\",\", usecols=range(1,14),\n",
        "        dtype=np.float64)\n",
        "    data_y = np.loadtxt(data_file, delimiter=\",\", usecols=[0],\n",
        "        dtype=np.int)\n",
        "\n",
        "    return data_x, data_y\n",
        "\n",
        "# construct the SOM\n",
        "def constructSOM(Rows, Cols, Dim, StepsMax, RangeMax, LearnMax, data_x):\n",
        "    print(\"Constructing a 30x30 SOM from the wine data\")\n",
        "    map = np.random.random_sample(size=(Rows,Cols,Dim))\n",
        "\n",
        "    # The call to random_sample() generates a 30 x 30 matrix where each cell is a vector of size 4 with random values between 0.0 and 1.0.\n",
        "    for s in range(StepsMax):\n",
        "        if s % (StepsMax/10) == 0: print(\"step = \", str(s))\n",
        "        pct_left = 1.0 - ((s * 1.0) / StepsMax)\n",
        "        curr_range = (int)(pct_left * RangeMax)\n",
        "        curr_rate = pct_left * LearnMax\n",
        "\n",
        "        # A random data item is selected and the best matching unit map node/cell is determined\n",
        "        t = np.random.randint(len(data_x))\n",
        "        (bmu_row, bmu_col) = closest_node(data_x, t, map, Rows, Cols)\n",
        "\n",
        "        # The update moves the current node vector closer to the current data item using the curr_rate value which slowly decreases over time.\n",
        "        for i in range(Rows):\n",
        "            for j in range(Cols):\n",
        "                if manhattan_dist(bmu_row, bmu_col, i, j) < curr_range:\n",
        "                    map[i][j] = map[i][j] + curr_rate * (data_x[t] - map[i][j])\n",
        "    \n",
        "    return map\n",
        "\n",
        "def manhattan_dist(r1, c1, r2, c2):\n",
        "    return np.abs(r1-r2) + np.abs(c1-c2)\n",
        "    \n",
        "# Using a SOM for Dimensionality Reduction Visualization(DRV)\n",
        "def DRV(Rows, Cols, data_x, data_y, map):\n",
        "    print(\"Associating each data label to one map node \")\n",
        "    mapping = np.empty(shape=(Rows, Cols), dtype=object)\n",
        "    for i in range(Rows):\n",
        "        for j in range(Cols):\n",
        "            mapping[i][j] = [] # empty list\n",
        "\n",
        "    for t in range(len(data_x)):\n",
        "        (m_row, m_col) = closest_node(data_x, t, map, Rows, Cols)\n",
        "        mapping[m_row][m_col].append(data_y[t])\n",
        "\n",
        "    label_map = np.zeros(shape=(Rows,Cols), dtype=np.int)\n",
        "    for i in range(Rows):\n",
        "        for j in range(Cols):\n",
        "            label_map[i][j] = most_common(mapping[i][j], 4)\n",
        "    \n",
        "    return label_map\n",
        "\n",
        "def closest_node(data, t, map, m_rows, m_cols):\n",
        "    # (row,col) of map node closest to data[t]\n",
        "    result = (0,0)\n",
        "    small_dist = 1.0e20\n",
        "    for i in range(m_rows):\n",
        "        for j in range(m_cols):\n",
        "            ed = euc_dist(map[i][j], data[t])\n",
        "            if ed < small_dist:\n",
        "                small_dist = ed\n",
        "                result = (i, j)\n",
        "    return result\n",
        "\n",
        "def euc_dist(v1, v2):\n",
        "    return np.linalg.norm(v1 - v2) \n",
        "\n",
        "def most_common(lst, n):\n",
        "    # lst is a list of values 0 . . n\n",
        "    if len(lst) == 0: return -1\n",
        "    counts = np.zeros(shape=n, dtype=np.int)\n",
        "    for i in range(len(lst)):\n",
        "        counts[lst[i]] += 1\n",
        "    return np.argmax(counts)\n",
        "\n",
        "# 畫圖\n",
        "def Draw(label_map):\n",
        "    plt.imshow(label_map, cmap=plt.cm.get_cmap('terrain_r', 13))\n",
        "    plt.colorbar()\n",
        "    plt.show()\n"
      ],
      "execution_count": null,
      "outputs": []
    },
    {
      "cell_type": "code",
      "metadata": {
        "colab": {
          "base_uri": "https://localhost:8080/",
          "height": 473
        },
        "id": "FxkHb0y5qgD0",
        "outputId": "64555ad6-8874-4f32-c9e6-99102d5919d5"
      },
      "source": [
        "np.random.seed(1)\n",
        "Rows = 30; Cols = 30\n",
        "Dim = 13\n",
        "StepsMax = 5000\n",
        "RangeMax = Rows + Cols\n",
        "LearnMax = 0.5\n",
        "\n",
        "# 載入資料\n",
        "data_x, data_y = loadData()\n",
        "# construct the SOM\n",
        "map = constructSOM(Rows, Cols, Dim, StepsMax, RangeMax, LearnMax, data_x)\n",
        "# Using a SOM for Dimensionality Reduction Visualization(DRV)\n",
        "label_map = DRV(Rows, Cols, data_x, data_y, map)\n",
        "# 畫圖\n",
        "Draw(label_map)"
      ],
      "execution_count": null,
      "outputs": [
        {
          "output_type": "stream",
          "text": [
            "Constructing a 30x30 SOM from the wine data\n",
            "step =  0\n",
            "step =  500\n",
            "step =  1000\n",
            "step =  1500\n",
            "step =  2000\n",
            "step =  2500\n",
            "step =  3000\n",
            "step =  3500\n",
            "step =  4000\n",
            "step =  4500\n",
            "Associating each data label to one map node \n"
          ],
          "name": "stdout"
        },
        {
          "output_type": "display_data",
          "data": {
            "image/png": "[encoded data removed]",
            "text/plain": [
              "<Figure size 432x288 with 2 Axes>"
            ]
          },
          "metadata": {
            "tags": [],
            "needs_background": "light"
          }
        }
      ]
    },
    {
      "cell_type": "code",
      "metadata": {
        "id": "2QBPbeFzqqvM",
        "colab": {
          "base_uri": "https://localhost:8080/",
          "height": 265
        },
        "outputId": "e0a91750-c18a-4b4f-8779-1324d268adb6"
      },
      "source": [
        "import matplotlib.pyplot as plt\n",
        "\n",
        "x = model.competition_weight[0,:2] # 要连接的两个点的坐标\n",
        "y = model.competition_weight[0,:2] # 要连接的两个点的坐标\n",
        "\n",
        "for i in range(len(x)):\n",
        "\n",
        "    plt.plot(x[i], y[i], color='r')\n",
        "    plt.scatter(x[i], y[i], color='b')"
      ],
      "execution_count": null,
      "outputs": [
        {
          "output_type": "display_data",
          "data": {
            "image/png": "[encoded data removed]",
            "text/plain": [
              "<Figure size 432x288 with 1 Axes>"
            ]
          },
          "metadata": {
            "tags": [],
            "needs_background": "light"
          }
        }
      ]
    },
    {
      "cell_type": "code",
      "metadata": {
        "colab": {
          "base_uri": "https://localhost:8080/"
        },
        "id": "WZpq9ucXuk5H",
        "outputId": "66d2402b-f8e1-4c8c-df90-16bb1b3d7bcd"
      },
      "source": [
        "# model.competition_weight[0,0]\n",
        "model.competition_weight.shape"
      ],
      "execution_count": null,
      "outputs": [
        {
          "output_type": "execute_result",
          "data": {
            "text/plain": [
              "(3, 3, 2)"
            ]
          },
          "metadata": {
            "tags": []
          },
          "execution_count": 127
        }
      ]
    },
    {
      "cell_type": "code",
      "metadata": {
        "colab": {
          "base_uri": "https://localhost:8080/",
          "height": 265
        },
        "id": "0j1I812Lu49N",
        "outputId": "457f6680-c044-4495-e4b7-68fc67b03acd"
      },
      "source": [
        "# def plot_topo():\n",
        "x_values = []\n",
        "y_values = []\n",
        "for i in range(model.competition_weight.shape[0]):\n",
        "  for j in range(model.competition_weight.shape[1]):\n",
        "    plt.scatter(model.competition_weight[i][j][0],model.competition_weight[i][j][1], color='b')\n",
        "    x_values.append(model.competition_weight[i][j][0])\n",
        "    y_values.append(model.competition_weight[i][j][1])\n",
        "    plt.plot(x_values, y_values, color='r')\n",
        "\n",
        "\n",
        "for j in range(model.competition_weight.shape[0]):\n",
        "  for i in range(model.competition_weight.shape[1]):\n",
        "    plt.scatter(model.competition_weight[i][j][0],model.competition_weight[i][j][1], color='b')\n",
        "    x_values.append(model.competition_weight[i][j][0])\n",
        "    y_values.append(model.competition_weight[i][j][1])\n",
        "    plt.plot(x_values, y_values, color='r')"
      ],
      "execution_count": null,
      "outputs": [
        {
          "output_type": "display_data",
          "data": {
            "image/png": "[encoded data removed]",
            "text/plain": [
              "<Figure size 432x288 with 1 Axes>"
            ]
          },
          "metadata": {
            "tags": [],
            "needs_background": "light"
          }
        }
      ]
    },
    {
      "cell_type": "code",
      "metadata": {
        "colab": {
          "base_uri": "https://localhost:8080/",
          "height": 299
        },
        "id": "tfqOyjZgvTQw",
        "outputId": "eaa068af-10d1-4a60-b926-07fb3e4b3a6a"
      },
      "source": [
        "model.competition_weight[0,0]\n",
        "model.competition_weight[0,1]\n",
        "plt.scatter(model.competition_weight[0][0][0],model.competition_weight[0][0][1], color='b')\n",
        "plt.scatter(model.competition_weight[0][1][0],model.competition_weight[0][1][1], color='b')\n",
        "\n"
      ],
      "execution_count": null,
      "outputs": [
        {
          "output_type": "execute_result",
          "data": {
            "text/plain": [
              "[<matplotlib.lines.Line2D at 0x7fa99fe56550>,\n",
              " <matplotlib.lines.Line2D at 0x7fa99fe56c88>]"
            ]
          },
          "metadata": {
            "tags": []
          },
          "execution_count": 160
        },
        {
          "output_type": "display_data",
          "data": {
            "image/png": "[encoded data removed]",
            "text/plain": [
              "<Figure size 432x288 with 1 Axes>"
            ]
          },
          "metadata": {
            "tags": [],
            "needs_background": "light"
          }
        }
      ]
    },
    {
      "cell_type": "code",
      "metadata": {
        "colab": {
          "base_uri": "https://localhost:8080/"
        },
        "id": "lqGXttCF57a7",
        "outputId": "4dd471c5-523a-4e32-d6aa-caeea309c237"
      },
      "source": [
        "x_values"
      ],
      "execution_count": null,
      "outputs": [
        {
          "output_type": "execute_result",
          "data": {
            "text/plain": [
              "0.22592407771982452547"
            ]
          },
          "metadata": {
            "tags": []
          },
          "execution_count": 164
        }
      ]
    },
    {
      "cell_type": "code",
      "metadata": {
        "colab": {
          "base_uri": "https://localhost:8080/"
        },
        "id": "gG5LU4wV6R4W",
        "outputId": "aa676937-a029-4f5c-fc13-94b80a97705a"
      },
      "source": [
        "model.competition_weight[0][0][0]"
      ],
      "execution_count": null,
      "outputs": [
        {
          "output_type": "execute_result",
          "data": {
            "text/plain": [
              "0.5144484655265585296"
            ]
          },
          "metadata": {
            "tags": []
          },
          "execution_count": 150
        }
      ]
    },
    {
      "cell_type": "code",
      "metadata": {
        "colab": {
          "base_uri": "https://localhost:8080/"
        },
        "id": "9OjELIYi6jyv",
        "outputId": "19d9cb55-20a5-4954-f44e-66ec099956d3"
      },
      "source": [
        "model.competition_weight[0][0][1]"
      ],
      "execution_count": null,
      "outputs": [
        {
          "output_type": "execute_result",
          "data": {
            "text/plain": [
              "0.25513734129105527092"
            ]
          },
          "metadata": {
            "tags": []
          },
          "execution_count": 151
        }
      ]
    },
    {
      "cell_type": "code",
      "metadata": {
        "colab": {
          "base_uri": "https://localhost:8080/",
          "height": 282
        },
        "id": "BO8s8PoN6lZV",
        "outputId": "3c09e3e0-374c-4566-f0ad-b08f3cf5c43e"
      },
      "source": [
        "\n",
        "\n"
      ],
      "execution_count": null,
      "outputs": [
        {
          "output_type": "execute_result",
          "data": {
            "text/plain": [
              "[<matplotlib.lines.Line2D at 0x7fa99f88e550>]"
            ]
          },
          "metadata": {
            "tags": []
          },
          "execution_count": 152
        },
        {
          "output_type": "display_data",
          "data": {
            "image/png": "[encoded data removed]",
            "text/plain": [
              "<Figure size 432x288 with 1 Axes>"
            ]
          },
          "metadata": {
            "tags": [],
            "needs_background": "light"
          }
        }
      ]
    },
    {
      "cell_type": "code",
      "metadata": {
        "id": "4dzwTA8b7Xs1"
      },
      "source": [
        "a = np.random.uniform(0,10,5)\n",
        "a.sort()\n",
        "b = np.random.uniform(0,10,5)\n",
        "b.sort()\n",
        "c = np.zeros(shape=(5,5,2))"
      ],
      "execution_count": null,
      "outputs": []
    },
    {
      "cell_type": "code",
      "metadata": {
        "id": "8Pp4BAPW_G2v"
      },
      "source": [
        "for i in range(len(a)):\n",
        "  for j in range(len(a)):\n",
        "    c[i][j][0] = a[i]\n",
        "    c[i][j][1] = b[i]\n",
        "\n"
      ],
      "execution_count": null,
      "outputs": []
    },
    {
      "cell_type": "code",
      "metadata": {
        "colab": {
          "base_uri": "https://localhost:8080/"
        },
        "id": "p6w5l40OBOh6",
        "outputId": "f3fc41af-0920-4173-d398-d5425f80ee65"
      },
      "source": [
        "c"
      ],
      "execution_count": null,
      "outputs": [
        {
          "output_type": "execute_result",
          "data": {
            "text/plain": [
              "array([[[2.06370056, 0.25406576],\n",
              "        [2.06370056, 0.25406576],\n",
              "        [2.06370056, 0.25406576],\n",
              "        [2.06370056, 0.25406576],\n",
              "        [2.06370056, 0.25406576]],\n",
              "\n",
              "       [[6.31083147, 1.75695864],\n",
              "        [6.31083147, 1.75695864],\n",
              "        [6.31083147, 1.75695864],\n",
              "        [6.31083147, 1.75695864],\n",
              "        [6.31083147, 1.75695864]],\n",
              "\n",
              "       [[7.78546957, 6.72849721],\n",
              "        [7.78546957, 6.72849721],\n",
              "        [7.78546957, 6.72849721],\n",
              "        [7.78546957, 6.72849721],\n",
              "        [7.78546957, 6.72849721]],\n",
              "\n",
              "       [[8.5366139 , 7.49619897],\n",
              "        [8.5366139 , 7.49619897],\n",
              "        [8.5366139 , 7.49619897],\n",
              "        [8.5366139 , 7.49619897],\n",
              "        [8.5366139 , 7.49619897]],\n",
              "\n",
              "       [[9.88909996, 8.36199458],\n",
              "        [9.88909996, 8.36199458],\n",
              "        [9.88909996, 8.36199458],\n",
              "        [9.88909996, 8.36199458],\n",
              "        [9.88909996, 8.36199458]]])"
            ]
          },
          "metadata": {
            "tags": []
          },
          "execution_count": 214
        }
      ]
    },
    {
      "cell_type": "code",
      "metadata": {
        "colab": {
          "base_uri": "https://localhost:8080/",
          "height": 265
        },
        "id": "1qrFH9mx_6H4",
        "outputId": "8fb6b4c3-c73c-40c5-d22d-406298a44914"
      },
      "source": [
        "x_values = []\n",
        "y_values = []\n",
        "for j in range(c.shape[0]):\n",
        "  for i in range(c.shape[1]):\n",
        "    plt.scatter(c[i][j][0],c[i][j][1], color='b')\n",
        "    x_values.append(c[i][j][0])\n",
        "    y_values.append(c[i][j][1])\n",
        "    plt.plot(x_values, y_values, color='r')"
      ],
      "execution_count": null,
      "outputs": [
        {
          "output_type": "display_data",
          "data": {
            "image/png": "[encoded data removed]",
            "text/plain": [
              "<Figure size 432x288 with 1 Axes>"
            ]
          },
          "metadata": {
            "tags": [],
            "needs_background": "light"
          }
        }
      ]
    },
    {
      "cell_type": "code",
      "metadata": {
        "id": "-AcKwHEoAy_u"
      },
      "source": [
        ""
      ],
      "execution_count": null,
      "outputs": []
    }
  ]
}