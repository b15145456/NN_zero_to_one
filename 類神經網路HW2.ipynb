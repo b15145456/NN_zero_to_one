{
  "nbformat": 4,
  "nbformat_minor": 0,
  "metadata": {
    "colab": {
      "name": "類神經網路HW2(3).ipynb",
      "provenance": [],
      "collapsed_sections": [],
      "authorship_tag": "ABX9TyNIuAOED1tJ9hErAETQ3uy6",
      "include_colab_link": true
    },
    "kernelspec": {
      "display_name": "Python 3",
      "name": "python3"
    }
  },
  "cells": [
    {
      "cell_type": "markdown",
      "metadata": {
        "id": "view-in-github",
        "colab_type": "text"
      },
      "source": [
        "<a href=\"https://colab.research.google.com/github/b15145456/Neural-Network-By-scratch/blob/master/%E9%A1%9E%E7%A5%9E%E7%B6%93%E7%B6%B2%E8%B7%AFHW2.ipynb\" target=\"_parent\"><img src=\"https://colab.research.google.com/assets/colab-badge.svg\" alt=\"Open In Colab\"/></a>"
      ]
    },
    {
      "cell_type": "markdown",
      "metadata": {
        "id": "rlJXCADUFV0Y"
      },
      "source": [
        "多層感知機\n",
        "\n",
        "---\n",
        "*   層數 layer_num (要可以自由設定)\n",
        "*   維度 根據資料的feature\n",
        "---\n",
        "步驟：以3個feature 1層輸出層, 3層隱藏層, 1層輸出層神經元為例\n",
        "$$\n",
        "  x = \\begin{pmatrix}\n",
        "        -1 & x_1 & x_2 & x_3 \\\\\n",
        "        \\end{pmatrix}\n",
        "$$\n",
        "$$$$\n",
        "$\n",
        "       w_{ij} = \\begin{pmatrix}\n",
        "        -1 & a_{11} & a_{21} & a_{31} \\\\\n",
        "        -1 & a_{12} & a_{22} & a_{32} \\\\\n",
        "        -1 & a_{13} & a_{23} & a_{33} \\\\\n",
        "        \\end{pmatrix}\n",
        "$\n",
        "$\n",
        "      w_{ij}^\\mathrm T = \n",
        "      \\begin{pmatrix}\n",
        "        -1 & -1 & -1  \\\\\n",
        "        a_{11} & a_{12} & a_{23} \\\\\n",
        "        a_{21} & a_{22} & a_{23} \\\\\n",
        "        a_{31} & a_{32} & a_{33} \\\\\n",
        "      \\end{pmatrix}\n",
        "$\n",
        "$$$$\n",
        "\n",
        "$$\n",
        "  v(n) = \\Sigma_{i=0}^3xw_{ij}^\\mathrm T \\qquad y(n) = \\Phi v(n)  \n",
        "$$\n",
        "\n",
        "$$$$\n",
        "\n",
        "$$\n",
        "   w_{ij}(n+1) = w_{ij} + \\Delta w_{ij}(n) = w_{ij} + \\eta \\delta_j(n) y_i(n)\n",
        "$$\n",
        "\n",
        "若j神經元是輸出層神經\n",
        "$$\n",
        "          \\delta_j(n) = [d_j(n)-y_j(n)] \\quad y_j(n)[1-y_j(n)]\n",
        "$$\n",
        "若j神經元是隱藏層神經\n",
        "$$\n",
        "          \\delta_j(n) = y_j(n)[1-y_j(n)] \\quad \\Sigma\\delta_k(n)w_{kj}(n)\n",
        "$$\n",
        "\n",
        "\n",
        "1. 初始化鍵結值\n",
        "2. 前饋\n",
        "3. 輸出y值\n",
        "4. 判斷此神經元是否為輸出神經元\n",
        "5. 回饋往回修改鍵結值\n",
        "6. 回到步驟2."
      ]
    },
    {
      "cell_type": "code",
      "metadata": {
        "id": "YyzY4dcc-Sf6"
      },
      "source": [
        "  #自由決定hidden layer 的 neural數目\n",
        "  #根據上層的input 建立對應的w\n",
        "  class hiddenLayer:\n",
        "    def __init__(self, neural_num):\n",
        "      self.layer_name = \"hidden\"\n",
        "      self.neural_num = neural_num\n",
        "      self.init = 0\n",
        "\n",
        "    def sigmoid(self,x):\n",
        "      return 1/(1+math.exp(-x))\n",
        "\n",
        "    def input(self, inputdata):\n",
        "      # print('--------------input to hidden Layer')\n",
        "      self.upper_input = inputdata\n",
        "      # print(self.upper_input.shape)\n",
        "      if self.init == 0:\n",
        "        self.hid_w = np.random.rand(self.upper_input.shape[0]+1, self.neural_num)\n",
        "      self.init = 1    \n",
        "\n",
        "    def output(self):\n",
        "      self.upper_input = np.insert(self.upper_input, 0, -1.)\n",
        "      self.weightSum = np.dot(self.upper_input.T, self.hid_w)\n",
        "      sigmoid_v = np.vectorize(self.sigmoid)\n",
        "      self.phi_res = sigmoid_v(self.weightSum)\n",
        "      self.old_hid_w = self.hid_w\n",
        "      return self.phi_res\n",
        "\n",
        "    def update(self, upper_old_hid_w, learning_rate, upper_phi_res, up_respon):\n",
        "      self.respon = 0\n",
        "      self.respon = self.phi_res*(1-self.phi_res)*np.dot(np.array(up_respon), np.array(upper_old_hid_w[1:,]).T)\n",
        "      # print('self.respon')\n",
        "      # print(self.respon)\n",
        "      self.hid_w = self.old_hid_w + learning_rate * np.dot(np.array([upper_phi_res]).T, np.array([self.respon]) )\n",
        "      # print('self.hid_w')\n",
        "      # print(self.hid_w)\n",
        "      # print('update!!!!')\n"
      ],
      "execution_count": null,
      "outputs": []
    },
    {
      "cell_type": "code",
      "metadata": {
        "id": "0H_vVyPQUqMM"
      },
      "source": [
        "  #根據y的類別個數決定 neural數目\n",
        "  #計算並回傳均方誤差\n",
        "  class outputLayer:\n",
        "    def __init__(self, neural_num=1):\n",
        "      self.layer_name = \"output\"\n",
        "      self.neural_num = neural_num      #neural_num要和結果個數一樣(群數)\n",
        "      self.init = 0\n",
        "    def sigmoid(self,x):\n",
        "      return 1/(1+math.exp(-x))\n",
        "    def input(self, inputdata):\n",
        "      self.upper_input = inputdata\n",
        "      if self.init == 0:\n",
        "        # self.hid_w = np.array([0.5, 0.4, 0.8])\n",
        "        self.hid_w = np.random.rand(self.upper_input.shape[0]+1, self.neural_num)\n",
        "      else:\n",
        "        self.init = 1\n",
        "    def output(self):\n",
        "      self.upper_input = np.insert(self.upper_input, 0, -1.)\n",
        "      self.weightSum = np.dot(self.upper_input.T, self.hid_w)\n",
        "      sig_v = np.vectorize(self.sigmoid)\n",
        "      self.phi_res = sig_v(self.weightSum)\n",
        "      self.old_hid_w = self.hid_w\n",
        "      return self.phi_res\n",
        "\n",
        "    def update(self, learning_rate, target):\n",
        "      self.respon = 0\n",
        "      self.respon = (target - self.phi_res)* self.phi_res* (1 - self.phi_res)\n",
        "      self.hid_w = self.old_hid_w + learning_rate * np.array([self.upper_input]).T.dot(self.respon)\n",
        "      \n",
        "      \n",
        "      \n"
      ],
      "execution_count": null,
      "outputs": []
    },
    {
      "cell_type": "code",
      "metadata": {
        "id": "T3GSHn8BAcPs"
      },
      "source": [
        "import numpy as np\n",
        "from sklearn import preprocessing\n",
        "import sklearn.preprocessing\n",
        "import sklearn.model_selection\n",
        "import math\n",
        "import matplotlib.pyplot as plt\n",
        "class MultiNeuralNetwork: \n",
        "  def __init__(self, feature_num, class_num, hiddenLayer_num, hiddenNeural_num, data_x, data_y, learning_rate = 0.1):\n",
        "    self.hidden_layer_list = []\n",
        "    self.feature_num = feature_num\n",
        "    self.class_num = class_num\n",
        "    self.hiddenLayer_num = hiddenLayer_num\n",
        "    self.hiddenNeural_num = hiddenNeural_num\n",
        "    self.data_x = data_x\n",
        "    self.data_y = data_y\n",
        "    self.learning_rate = learning_rate\n",
        "    self.rmse_list = []\n",
        "    self.total_times = 0\n",
        "    self.true = 0\n",
        "    for i in range(1, hiddenLayer_num+1):           #hiddenLayer_num_1,2.....hiddenLayer_num\n",
        "      self.hidden_layer_list.append(hiddenLayer(hiddenNeural_num))\n",
        "    self.output_layer = outputLayer(class_num)\n",
        "    \n",
        "  def forward(self, forward_data):\n",
        "    #hiddenLayer\n",
        "    self.forward_data = forward_data\n",
        "    for layer_id in range(len(self.hidden_layer_list)):\n",
        "      this_hid_layer = self.hidden_layer_list[layer_id]\n",
        "      this_hid_layer.input(self.forward_data)\n",
        "      self.forward_data = this_hid_layer.output()\n",
        "    #outputLayer\n",
        "    self.output_layer.input(self.forward_data)\n",
        "    self.pred_y = self.output_layer.output()\n",
        "    # print('forward done !')\n",
        "\n",
        "  def rmse(self):\n",
        "    return np.sqrt((np.array(self.rmse_list)**2).mean())\n",
        "\n",
        "\n",
        "  def train(self, times):\n",
        "    while times>0:\n",
        "      for data_index in range(len(self.data_x)):\n",
        "        self.total_times += 1\n",
        "\n",
        "        # print(self.data_x[data_index])\n",
        "        self.forward(self.data_x[data_index])\n",
        "        self.backpropagation(self.data_y[data_index])\n",
        "        self.rmse_list.append(self.pred_y - self.data_y[data_index])\n",
        "        # print(self.pred_y)\n",
        "        if self.pred_y < 0.5 and self.data_y[data_index] == self.data_y.min():\n",
        "          self.true +=1\n",
        "        elif self.pred_y >= 0.5 and self.data_y[data_index] == self.data_y.min()+1:\n",
        "          self.true +=1\n",
        "\n",
        "        if self.pred_y < 0.5:\n",
        "          plt.scatter(self.data_x[data_index][0],self.data_x[data_index][1], marker=\"o\", c = 'r')\n",
        "        elif self.pred_y >= 0.5:\n",
        "          plt.scatter(self.data_x[data_index][0],self.data_x[data_index][1], marker=\"o\",c = 'b')\n",
        "      times-=1\n",
        "    print('RMSE=')\n",
        "    print(self.rmse())\n",
        "    print('辨識率')\n",
        "    print( self.true/self.total_times )\n",
        "    plt.show()\n",
        "    return 'train done'\n",
        "\n",
        "  def backpropagation(self, target):\n",
        "    self.back_prop_list = []\n",
        "    self.back_prop_list.append(self.output_layer)\n",
        "    self.back_prop_list = self.back_prop_list + self.hidden_layer_list[::-1]\n",
        "    for layer_index in range(len(self.back_prop_list)):\n",
        "      if self.back_prop_list[layer_index].layer_name == \"output\":\n",
        "        self.back_prop_list[layer_index].update(self.learning_rate, target)\n",
        "      else:\n",
        "        self.back_prop_list[layer_index].update( self.back_prop_list[layer_index-1].old_hid_w, self.learning_rate, self.back_prop_list[layer_index].upper_input, self.back_prop_list[layer_index-1].respon)\n",
        "      #(self, upper_hid_w, learning_rate, upper_phi_res, up_respon)\n",
        "    self.output_layer = self.back_prop_list[0]\n",
        "    self.back_prop_list.remove(self.output_layer)\n",
        "    self.hidden_layer_list = self.back_prop_list[::-1]\n"
      ],
      "execution_count": null,
      "outputs": []
    },
    {
      "cell_type": "code",
      "metadata": {
        "id": "HFfHnXkpLrVx"
      },
      "source": [
        "def load_train_test_data(train_ratio=.5):\n",
        "    data = np.loadtxt(\"2ring.txt\",dtype=np.float,delimiter=' ')\n",
        "    X = data[:,0:data.shape[1]-1]\n",
        "    y = data[:,data.shape[1]-1]\n",
        "    return sklearn.model_selection.train_test_split(X, y, test_size = 1 - train_ratio, random_state=0)\n",
        "def scale_features(X_train, X_test, low=0, upp=1):\n",
        "    minmax_scaler = sklearn.preprocessing.MinMaxScaler(feature_range=(low, upp)).fit(np.vstack((X_train, X_test)))\n",
        "    X_train_scaled = minmax_scaler.transform(X_train)\n",
        "    X_test_scaled = minmax_scaler.transform(X_test)\n",
        "    return X_train_scaled, X_test_scaled"
      ],
      "execution_count": null,
      "outputs": []
    },
    {
      "cell_type": "code",
      "metadata": {
        "id": "Mb6oWWGgpyBT",
        "colab": {
          "base_uri": "https://localhost:8080/",
          "height": 355
        },
        "outputId": "8f7da920-d495-4f82-84dc-5a0705b5bb6e"
      },
      "source": [
        "X_train, X_test, y_train, y_test = load_train_test_data(train_ratio=0.666)\n",
        "\n",
        "nn = MultiNeuralNetwork(X_train.shape[1],  1, 2, 2, X_train, y_train, 0.1) \n",
        "nn.train(100)\n"
      ],
      "execution_count": null,
      "outputs": [
        {
          "output_type": "stream",
          "text": [
            "RMSE=\n",
            "0.9124566981056491\n",
            "辨識率\n",
            "0.4272361809045226\n"
          ],
          "name": "stdout"
        },
        {
          "output_type": "display_data",
          "data": {
            "image/png": "[encoded data removed]",
            "text/plain": [
              "<Figure size 432x288 with 1 Axes>"
            ]
          },
          "metadata": {
            "tags": [],
            "needs_background": "light"
          }
        },
        {
          "output_type": "execute_result",
          "data": {
            "application/vnd.google.colaboratory.intrinsic+json": {
              "type": "string"
            },
            "text/plain": [
              "'train done'"
            ]
          },
          "metadata": {
            "tags": []
          },
          "execution_count": 7
        }
      ]
    },
    {
      "cell_type": "code",
      "metadata": {
        "id": "QjKBl_3_7GAW",
        "colab": {
          "base_uri": "https://localhost:8080/",
          "height": 351
        },
        "outputId": "768d59b8-1a63-4137-9e94-b36a51968c9b"
      },
      "source": [
        "nn.data_x = X_test\n",
        "nn.data_y = y_test\n",
        "nn.train(1)"
      ],
      "execution_count": null,
      "outputs": [
        {
          "output_type": "stream",
          "text": [
            "RMSE=\n",
            "0.955776394313747\n",
            "辨識率\n",
            "0.6697080291970803\n"
          ],
          "name": "stdout"
        },
        {
          "output_type": "display_data",
          "data": {
            "image/png": "[encoded data removed]",
            "text/plain": [
              "<Figure size 432x288 with 1 Axes>"
            ]
          },
          "metadata": {
            "tags": [],
            "needs_background": "light"
          }
        },
        {
          "output_type": "execute_result",
          "data": {
            "application/vnd.google.colaboratory.intrinsic+json": {
              "type": "string"
            },
            "text/plain": [
              "'train done'"
            ]
          },
          "metadata": {
            "tags": []
          },
          "execution_count": 543
        }
      ]
    },
    {
      "cell_type": "code",
      "metadata": {
        "id": "vOpyLDasr5Cq",
        "colab": {
          "base_uri": "https://localhost:8080/"
        },
        "outputId": "065953fb-1638-490b-915e-2dfdb61670bf"
      },
      "source": [
        "print('hidden layer 鍵結值')\n",
        "for i in range(len(nn.hidden_layer_list)):\n",
        "  print(nn.hidden_layer_list[i].hid_w)\n",
        "\n",
        "print('output layer 鍵結值')\n",
        "\n",
        "nn.output_layer.hid_w"
      ],
      "execution_count": null,
      "outputs": [
        {
          "output_type": "stream",
          "text": [
            "hidden layer 鍵結值\n",
            "[[-0.47798711 -0.14663295]\n",
            " [ 0.18934746  0.83799269]\n",
            " [ 1.15747739  1.25658515]]\n",
            "output layer 鍵結值\n"
          ],
          "name": "stdout"
        },
        {
          "output_type": "execute_result",
          "data": {
            "text/plain": [
              "array([[ 0.57460779,  0.64890253,  0.64899991],\n",
              "       [-0.01903095,  0.05526379,  0.05536117],\n",
              "       [ 0.93497147,  1.0092662 ,  1.00936359]])"
            ]
          },
          "metadata": {
            "tags": []
          },
          "execution_count": 544
        }
      ]
    },
    {
      "cell_type": "code",
      "metadata": {
        "id": "7TSeXB70p7Ng",
        "colab": {
          "base_uri": "https://localhost:8080/"
        },
        "outputId": "48f2e5af-1864-4323-b418-8be07b2f8a67"
      },
      "source": [
        "reset"
      ],
      "execution_count": null,
      "outputs": [
        {
          "output_type": "stream",
          "text": [
            "Once deleted, variables cannot be recovered. Proceed (y/[n])? y\n"
          ],
          "name": "stdout"
        }
      ]
    },
    {
      "cell_type": "code",
      "metadata": {
        "id": "s68SClv5LX0n",
        "colab": {
          "base_uri": "https://localhost:8080/"
        },
        "outputId": "f14ea775-72fb-4e4c-8442-4bad5910f516"
      },
      "source": [
        "import numpy as np\n",
        "\n",
        "np.random.seed(42)\n",
        "arr = np.random.randint(1, 10, size=(3, 4))\n",
        "print(arr[0])\n",
        "print(arr[1, 1]) # 3 located at (1, 1)\n",
        "print(arr[2, -3]) # 4 located at (2, -3)"
      ],
      "execution_count": null,
      "outputs": [
        {
          "output_type": "stream",
          "text": [
            "[7 4 8 5]\n",
            "3\n",
            "4\n"
          ],
          "name": "stdout"
        }
      ]
    },
    {
      "cell_type": "code",
      "metadata": {
        "id": "6zcJ8T0yqpUp",
        "colab": {
          "base_uri": "https://localhost:8080/"
        },
        "outputId": "6dd29e45-c8f8-421e-a8b2-201078cf2f35"
      },
      "source": [
        "a = np.random.rand(2, 2)\n",
        "print(a)\n",
        "a = np.insert(a, 0, -1.)    #在最前面插入-1\n",
        "print(a)"
      ],
      "execution_count": null,
      "outputs": [
        {
          "output_type": "stream",
          "text": [
            "[[0.65088847 0.05641158]\n",
            " [0.72199877 0.93855271]]\n",
            "[-1.          0.65088847  0.05641158  0.72199877  0.93855271]\n"
          ],
          "name": "stdout"
        }
      ]
    },
    {
      "cell_type": "code",
      "metadata": {
        "id": "TdAYmehR4B-i",
        "colab": {
          "base_uri": "https://localhost:8080/"
        },
        "outputId": "750c3ea5-e1f3-4d89-98b4-a9ca59295039"
      },
      "source": [
        "import numpy as np\n",
        "a = np.array([-1, 1, 1])\n",
        "b = np.array([[-1, -2],\n",
        "              [-3, -4],\n",
        "              [-5, -6]])\n",
        "print(a.shape)\n",
        "print(b.shape)\n",
        "c = np.dot(a, b)\n",
        "print(c)\n",
        "print(b[0,:])\n",
        "print(b[:,0])\n",
        "print(1-a)"
      ],
      "execution_count": null,
      "outputs": [
        {
          "output_type": "stream",
          "text": [
            "(3,)\n",
            "(3, 2)\n",
            "[-7 -8]\n",
            "[-1 -2]\n",
            "[-1 -3 -5]\n",
            "[2 0 0]\n"
          ],
          "name": "stdout"
        }
      ]
    },
    {
      "cell_type": "code",
      "metadata": {
        "id": "s26WPc6mB9yL",
        "colab": {
          "base_uri": "https://localhost:8080/"
        },
        "outputId": "49e41232-c0a1-43dd-8ee0-6c3c7323fd3f"
      },
      "source": [
        "#練習輸出層往隱藏層之鏈結更新\n",
        "target = np.array([[1, 0]])\n",
        "phi = np.array([[0.22, 0.19]])\n",
        "respon0 = (target - phi)*phi*(1-phi)\n",
        "back_data = np.array([[-1, 0.9, 0.9, 0.9]])\n",
        "print(respon0)\n",
        "hid_w = np.array([[-0.1, -0.2],\n",
        "                  [-0.3, -0.4],\n",
        "                  [-0.5, -0.6],\n",
        "                  [-0.7, -0.8]])\n",
        "print(0.5*back_data.T.dot(respon0))\n",
        "hid_w += 0.5*back_data.T.dot(respon0)\n",
        "print(hid_w)"
      ],
      "execution_count": null,
      "outputs": [
        {
          "output_type": "stream",
          "text": [
            "[[ 0.133848 -0.029241]]\n",
            "[[-0.066924    0.0146205 ]\n",
            " [ 0.0602316  -0.01315845]\n",
            " [ 0.0602316  -0.01315845]\n",
            " [ 0.0602316  -0.01315845]]\n",
            "[[-0.166924   -0.1853795 ]\n",
            " [-0.2397684  -0.41315845]\n",
            " [-0.4397684  -0.61315845]\n",
            " [-0.6397684  -0.81315845]]\n"
          ],
          "name": "stdout"
        }
      ]
    },
    {
      "cell_type": "code",
      "metadata": {
        "id": "NUxHtiiEbm41",
        "colab": {
          "base_uri": "https://localhost:8080/"
        },
        "outputId": "ea251f4e-5370-4b9e-b3f1-c15d80077245"
      },
      "source": [
        "#練習隱藏層往隱藏層之鏈結更新\n",
        "up_hid_w = hid_w\n",
        "# print(hid_w0[1:,])\n",
        "phi = np.array([[0.9, 0.9, 0.9]])\n",
        "up_data = np.array([[-1, 0.0009, 0.0003]])\n",
        "respon1 = phi*(1-phi)*np.dot(respon0,up_hid_w[1:,].T)\n",
        "print(respon1)\n",
        "# print(g)\n",
        "c = np.array([[-7.0,  -8,  -9],\n",
        "              [-10, -11, -12],\n",
        "              [-13, -14, -15]])\n",
        "# print(0.5*j.T.dot(g))\n",
        "c += 0.5 * np.dot(respon1.T ,up_data)\n",
        "print(c)"
      ],
      "execution_count": null,
      "outputs": [
        {
          "output_type": "stream",
          "text": [
            "[[-0.00180102 -0.00368395 -0.00556687]]\n",
            "[[ 9.00510956e-04 -8.10459860e-07 -2.70153287e-07]\n",
            " [ 1.84197396e-03 -1.65777656e-06 -5.52592187e-07]\n",
            " [ 2.78343696e-03 -2.50509326e-06 -8.35031087e-07]]\n",
            "[[ -6.99909949  -8.00000081  -9.00000027]\n",
            " [ -9.99815803 -11.00000166 -12.00000055]\n",
            " [-12.99721656 -14.00000251 -15.00000084]]\n"
          ],
          "name": "stdout"
        }
      ]
    },
    {
      "cell_type": "code",
      "metadata": {
        "id": "XsSlOuYcok6H",
        "colab": {
          "base_uri": "https://localhost:8080/"
        },
        "outputId": "6b27e0d7-70e8-4f7f-c6cf-00069887526e"
      },
      "source": [
        "a = [0, 1, 2, 3]\n",
        "b = [4,5,6]\n",
        "a+b[::-1]\n",
        "a[0:1]"
      ],
      "execution_count": null,
      "outputs": [
        {
          "output_type": "execute_result",
          "data": {
            "text/plain": [
              "[0]"
            ]
          },
          "metadata": {
            "tags": []
          },
          "execution_count": 464
        }
      ]
    },
    {
      "cell_type": "code",
      "metadata": {
        "id": "0jkRdwJQ_cGr",
        "colab": {
          "base_uri": "https://localhost:8080/"
        },
        "outputId": "c5c68164-4b41-4293-9d56-d17f7acdbab1"
      },
      "source": [
        "def sigmoid(x):\n",
        "      return 1/(1+math.exp(-x))\n",
        "sigmoid(2.24141639)"
      ],
      "execution_count": null,
      "outputs": [
        {
          "output_type": "execute_result",
          "data": {
            "text/plain": [
              "0.903907554467206"
            ]
          },
          "metadata": {
            "tags": []
          },
          "execution_count": 472
        }
      ]
    },
    {
      "cell_type": "code",
      "metadata": {
        "id": "q2W8zRHkHUMb",
        "colab": {
          "base_uri": "https://localhost:8080/"
        },
        "outputId": "0ad4ad0e-4ffc-4005-cf52-e4531453e705"
      },
      "source": [
        "for i in range(1, 5+1):           #hiddenLayer_num_1,2.....hiddenLayer_num\n",
        "      print(i)"
      ],
      "execution_count": null,
      "outputs": [
        {
          "output_type": "stream",
          "text": [
            "1\n",
            "2\n",
            "3\n",
            "4\n",
            "5\n"
          ],
          "name": "stdout"
        }
      ]
    },
    {
      "cell_type": "code",
      "metadata": {
        "id": "kZdAkrXyANOn",
        "colab": {
          "base_uri": "https://localhost:8080/"
        },
        "outputId": "2bcf1362-0583-44f2-fc31-84a8d055c41c"
      },
      "source": [
        "l = ['Alice', 'Bob', 'Charlie', 'Bob', 'Dave']\n",
        "a = l[::-1]\n",
        "print(a)"
      ],
      "execution_count": null,
      "outputs": [
        {
          "output_type": "stream",
          "text": [
            "['Dave', 'Bob', 'Charlie', 'Bob', 'Alice']\n"
          ],
          "name": "stdout"
        }
      ]
    },
    {
      "cell_type": "code",
      "metadata": {
        "id": "7RGfc2RGnkxB",
        "colab": {
          "base_uri": "https://localhost:8080/"
        },
        "outputId": "4b18741d-d2cf-4559-b7c2-ad6f65840353"
      },
      "source": [
        "def sigmoid(x):\n",
        "  return 1/(1+math.exp(-x))\n",
        "a = sigmoid(2)\n",
        "a"
      ],
      "execution_count": null,
      "outputs": [
        {
          "output_type": "execute_result",
          "data": {
            "text/plain": [
              "0.8807970779778823"
            ]
          },
          "metadata": {
            "tags": []
          },
          "execution_count": 302
        }
      ]
    },
    {
      "cell_type": "code",
      "metadata": {
        "id": "mhd47pKS9MgD",
        "colab": {
          "base_uri": "https://localhost:8080/"
        },
        "outputId": "006eb5f8-aea2-47a6-bad0-634dcccce459"
      },
      "source": [
        "c = ['1','2','3']\n",
        "a = []\n",
        "a.append('4')\n",
        "d = a + c[::-1]\n",
        "print(d)\n",
        "for layer_index in range(len(d)):\n",
        "  print(layer_index)\n",
        "# # for layer_index in range(len(d)):\n",
        "#       if self.back_prop_list[layer_index].layer_name == \"output\":\n",
        "#         self.back_prop_list[layer_index].update(self.learning_rate, target)\n",
        "#       else:\n",
        "#         self.back_prop_list[layer_index].update( self.back_prop_list[layer_index-1].old_hid_w, self.learning_rate, self.back_prop_list[layer_index].upper_input, self.back_prop_list[layer_index-1].respon)\n",
        "#       #(self, upper_hid_w, learning_rate, upper_phi_res, up_respon)\n",
        "#     self.output_layer = self.back_prop_list[0]\n",
        "#     self.back_prop_list.remove(self.output_layer)\n",
        "#     self.hidden_layer_list = self.back_prop_list[::-1]\n"
      ],
      "execution_count": null,
      "outputs": [
        {
          "output_type": "stream",
          "text": [
            "['4', '3', '2', '1']\n",
            "0\n",
            "1\n",
            "2\n",
            "3\n"
          ],
          "name": "stdout"
        }
      ]
    },
    {
      "cell_type": "code",
      "metadata": {
        "id": "RZDVubnDDdrz",
        "colab": {
          "base_uri": "https://localhost:8080/"
        },
        "outputId": "3ee6bbf8-ae0f-46c7-9c10-3f6e42ec94b3"
      },
      "source": [
        "np.random.rand(2, 3)"
      ],
      "execution_count": null,
      "outputs": [
        {
          "output_type": "execute_result",
          "data": {
            "text/plain": [
              "array([[3.46028626e-04, 9.36195320e-01, 5.96473406e-01],\n",
              "       [4.21498138e-01, 6.68935830e-01, 9.24722752e-03]])"
            ]
          },
          "metadata": {
            "tags": []
          },
          "execution_count": 394
        }
      ]
    },
    {
      "cell_type": "code",
      "metadata": {
        "id": "MoAiwc1xPNTE"
      },
      "source": [
        ""
      ],
      "execution_count": null,
      "outputs": []
    }
  ]
}