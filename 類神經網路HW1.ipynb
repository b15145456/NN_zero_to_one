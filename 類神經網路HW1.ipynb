{
  "nbformat": 4,
  "nbformat_minor": 0,
  "metadata": {
    "colab": {
      "name": "類神經網路HW1.ipynb",
      "provenance": [],
      "collapsed_sections": [],
      "toc_visible": true,
      "mount_file_id": "1BCcTFf8PJtjEKxIaOpxFjZ9NYiCjNFcb",
      "authorship_tag": "ABX9TyPa527R0Z4bAFYz6BDxmWfO",
      "include_colab_link": true
    },
    "kernelspec": {
      "name": "python3",
      "display_name": "Python 3"
    }
  },
  "cells": [
    {
      "cell_type": "markdown",
      "metadata": {
        "id": "view-in-github",
        "colab_type": "text"
      },
      "source": [
        "<a href=\"https://colab.research.google.com/github/b15145456/colabNN/blob/master/%E9%A1%9E%E7%A5%9E%E7%B6%93%E7%B6%B2%E8%B7%AFHW1.ipynb\" target=\"_parent\"><img src=\"https://colab.research.google.com/assets/colab-badge.svg\" alt=\"Open In Colab\"/></a>"
      ]
    },
    {
      "cell_type": "markdown",
      "metadata": {
        "id": "tnJN_KExDO0r"
      },
      "source": [
        "#類神經網路HW1\n",
        "\n"
      ]
    },
    {
      "cell_type": "code",
      "metadata": {
        "id": "qNktEV1_DbLN",
        "outputId": "fac64c34-c2a3-44f3-deaa-77ac04f1c688",
        "colab": {
          "base_uri": "https://localhost:8080/",
          "height": 54
        }
      },
      "source": [
        "from google.colab import drive\n",
        "drive.mount('/content/drive')"
      ],
      "execution_count": null,
      "outputs": [
        {
          "output_type": "stream",
          "text": [
            "Drive already mounted at /content/drive; to attempt to forcibly remount, call drive.mount(\"/content/drive\", force_remount=True).\n"
          ],
          "name": "stdout"
        }
      ]
    },
    {
      "cell_type": "markdown",
      "metadata": {
        "id": "EIEy6_4iFdMO"
      },
      "source": [
        "1. 使用train_test_split函數將資料分為測試資料和訓練資料\n",
        "輸入x與輸出y分離"
      ]
    },
    {
      "cell_type": "code",
      "metadata": {
        "id": "D64rM2HQDYBQ",
        "outputId": "74f5af89-9cb0-4d4e-f4b0-ecb27160ea60",
        "colab": {
          "base_uri": "https://localhost:8080/",
          "height": 102
        }
      },
      "source": [
        "import numpy as np\n",
        "import pandas as pd\n",
        "import random\n",
        "from sklearn.model_selection import train_test_split\n",
        "dataArr = np.loadtxt('./drive/My Drive/DS/2CloseS.txt')\n",
        "# dataArr = np.loadtxt('./ex.txt')\n",
        "df = pd.DataFrame(dataArr)\n",
        "dataShape = df.shape\n",
        "X_train, X_test, y_train, y_test = train_test_split(df.iloc[:,0:dataShape[1]-1], df.iloc[:,dataShape[1]-1], test_size=0.25)\n",
        "y_unique = y_train.unique()\n",
        "y_unique.sort()\n",
        "print(X_train.shape)\n",
        "print(X_test.shape)\n",
        "print(y_train.shape)\n",
        "print(y_test.shape)\n",
        "print(y_unique)\n"
      ],
      "execution_count": null,
      "outputs": [
        {
          "output_type": "stream",
          "text": [
            "(150, 2)\n",
            "(50, 2)\n",
            "(150,)\n",
            "(50,)\n",
            "[1. 2.]\n"
          ],
          "name": "stdout"
        }
      ]
    },
    {
      "cell_type": "markdown",
      "metadata": {
        "id": "CC5IvV6uLTdF"
      },
      "source": [
        "2. 設定Hyperparameter鍵結值=**W**, 設定learning rate=**R**"
      ]
    },
    {
      "cell_type": "markdown",
      "metadata": {
        "id": "a_eRfc6kGJgh"
      },
      "source": [
        "##定義2維類神經網路邏輯"
      ]
    },
    {
      "cell_type": "code",
      "metadata": {
        "id": "1hDb1OJBLlEW"
      },
      "source": [
        "def threshold(res):\n",
        "    if res>0:\n",
        "      return y_unique[1]     #設定區間值\n",
        "    else:\n",
        "      return y_unique[0]\n",
        "\n",
        "def neuralNetworkTrain(train_x, train_y, r, dataNum, expectAcuRate = 0.8, iterateTimes = 10000):  #設定收斂條件(精準度0.8, 跌代次數1000)\n",
        "  w = np.array([-1, random.random(), random.random()])  #在最前面插入-1\n",
        "  # w = np.array([-1, 0, 1])  #在最前面插入-1\n",
        "\n",
        "  x = np.array((X_train.sample(n=1, axis=0)))\n",
        "  x = np.insert(x, 0, -1.)    #在最前面插入-1\n",
        "  accT = 0\n",
        "  accTotal = 0\n",
        "  # case1=0\n",
        "  # case2=0\n",
        "  while(True):\n",
        "    for i in range(dataNum):\n",
        "      x = np.array((X_train.iloc[i,:]))\n",
        "      x = np.insert(x, 0, -1., axis=0)\n",
        "      predict_y = w.dot(x.T)\n",
        "      # print(i)\n",
        "      # print(x)\n",
        "      # print(w)\n",
        "      # print(predict_y)\n",
        "      predict_y_res = threshold(predict_y)\n",
        "      if train_y.iloc[i] != predict_y_res and predict_y<0:      #Case1\n",
        "        # print('case1')\n",
        "        w = w + r*x\n",
        "        # case1+=1\n",
        "      if train_y.iloc[i] != predict_y_res and predict_y>=0:      #Case2\n",
        "        # print('case2')\n",
        "        # case2+=1\n",
        "        w = w - r*x\n",
        "      if (int)(train_y.iloc[i]) == predict_y_res:\n",
        "          accT += 1\n",
        "          accTotal += 1\n",
        "      else:\n",
        "          accTotal += 1\n",
        "      \n",
        "      acuRate = accT/accTotal\n",
        "      iterateTimes -= 1\n",
        "      if (i>100 and acuRate>expectAcuRate) or iterateTimes==0:\n",
        "        return w, acuRate"
      ],
      "execution_count": null,
      "outputs": []
    },
    {
      "cell_type": "code",
      "metadata": {
        "id": "cerFC-DLVmAG",
        "outputId": "acc94c98-1df8-4cd2-e21e-cba5e40f816b",
        "colab": {
          "base_uri": "https://localhost:8080/",
          "height": 51
        }
      },
      "source": [
        "R = 10\n",
        "train_W, acuRate = neuralNetworkTrain(X_train, y_train, R, X_train.shape[0], 0.7, 10000)\n",
        "print(train_W)\n",
        "print(acuRate)\n"
      ],
      "execution_count": null,
      "outputs": [
        {
          "output_type": "stream",
          "text": [
            "[ -1.         -17.6378796    0.82710331]\n",
            "0.9607843137254902\n"
          ],
          "name": "stdout"
        }
      ]
    },
    {
      "cell_type": "markdown",
      "metadata": {
        "id": "I_-Zw8U7Qydf"
      },
      "source": [
        "## 訓練資料視覺化"
      ]
    },
    {
      "cell_type": "code",
      "metadata": {
        "id": "ube2NwdCXZGm",
        "outputId": "3f855c76-8aa2-4de4-a5d4-22c47e2372f0",
        "colab": {
          "base_uri": "https://localhost:8080/",
          "height": 279
        }
      },
      "source": [
        "import matplotlib.pyplot as plt\n",
        "\n",
        "fig, ax = plt.subplots()\n",
        "\n",
        "x = np.linspace(-1,1,5)\n",
        "# print(-1*train_W[0])\n",
        "y = (train_W[0]-x*train_W[1])/train_W[2]\n",
        "ax.plot(x,y,'r-')\n",
        "\n",
        "ax.scatter(X_train.iloc[:,0],X_train.iloc[:,1])\n",
        "ax.set_xlabel(\"x1\")\n",
        "ax.set_ylabel(\"x2\")\n",
        "plt.show()"
      ],
      "execution_count": null,
      "outputs": [
        {
          "output_type": "display_data",
          "data": {
            "image/png": "[encoded data removed]",
            "text/plain": [
              "<Figure size 432x288 with 1 Axes>"
            ]
          },
          "metadata": {
            "tags": [],
            "needs_background": "light"
          }
        }
      ]
    },
    {
      "cell_type": "markdown",
      "metadata": {
        "id": "6BMxlZebp9ND"
      },
      "source": [
        "##測試資料"
      ]
    },
    {
      "cell_type": "code",
      "metadata": {
        "id": "VSh7vdIBN3AZ",
        "outputId": "5b40314e-ffe6-428b-e10f-d152806d18cf",
        "colab": {
          "base_uri": "https://localhost:8080/",
          "height": 265
        }
      },
      "source": [
        "import matplotlib.pyplot as plt\n",
        "\n",
        "x = range(100)\n",
        "y = range(100,200)\n",
        "fig = plt.figure()\n",
        "ax1 = fig.add_subplot(111)\n",
        "\n",
        "ax1.scatter(x[:4], y[:4], s=10, c='b', marker=\"s\", label='first')\n",
        "ax1.scatter(x[40:],y[40:], s=10, c='r', marker=\"o\", label='second')\n",
        "plt.legend(loc='upper left');\n",
        "plt.show()"
      ],
      "execution_count": null,
      "outputs": [
        {
          "output_type": "display_data",
          "data": {
            "image/png": "[encoded data removed]",
            "text/plain": [
              "<Figure size 432x288 with 1 Axes>"
            ]
          },
          "metadata": {
            "tags": [],
            "needs_background": "light"
          }
        }
      ]
    },
    {
      "cell_type": "code",
      "metadata": {
        "id": "T7FPXqa2hJT9"
      },
      "source": [
        ""
      ],
      "execution_count": null,
      "outputs": []
    }
  ]
}